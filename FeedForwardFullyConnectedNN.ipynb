{
  "cells": [
    {
      "cell_type": "code",
      "execution_count": null,
      "metadata": {
        "id": "lTobZ1KaTv1k"
      },
      "outputs": [],
      "source": [
        "from sklearn import datasets\n",
        "import numpy as np\n",
        "from sklearn.neural_network import MLPClassifier\n",
        "import matplotlib.pyplot as plt\n",
        "from sklearn.model_selection import train_test_split\n",
        "import random\n",
        "from operator import add\n",
        "from scipy.special import expit\n",
        "import math\n",
        "from tqdm import tqdm\n",
        "import pickle as pk\n",
        "from sklearn.preprocessing import StandardScaler\n",
        "import matplotlib.pyplot as plt\n",
        "from sklearn.metrics import accuracy_score\n",
        "import pandas as pd"
      ]
    },
    {
      "cell_type": "code",
      "execution_count": null,
      "metadata": {
        "id": "TVyxeiBsT0R0"
      },
      "outputs": [],
      "source": [
        "class MyNeuralNetwork():\n",
        "    \"\"\"\n",
        "    My implementation of a Neural Network Classifier.\n",
        "    \"\"\"\n",
        "\n",
        "    acti_fns = ['relu', 'sigmoid', 'linear', 'tanh', 'softmax']\n",
        "    weight_inits = ['zero', 'random', 'normal']\n",
        "\n",
        "    def __init__(self, n_layers, layer_sizes, activation, learning_rate, weight_init, batch_size, num_epochs):\n",
        "        \"\"\"\n",
        "        Initializing a new MyNeuralNetwork object\n",
        "\n",
        "        Parameters\n",
        "        ----------\n",
        "        n_layers : int value specifying the number of layers\n",
        "\n",
        "        layer_sizes : integer array of size n_layers specifying the number of nodes in each layer\n",
        "\n",
        "        activation : string specifying the activation function to be used\n",
        "                     possible inputs: relu, sigmoid, linear, tanh\n",
        "\n",
        "        learning_rate : float value specifying the learning rate to be used\n",
        "\n",
        "        weight_init : string specifying the weight initialization function to be used\n",
        "                      possible inputs: zero, random, normal\n",
        "\n",
        "        batch_size : int value specifying the batch size to be used\n",
        "\n",
        "        num_epochs : int value specifying the number of epochs to be used\n",
        "        \"\"\"\n",
        "\n",
        "        self.n_layers = n_layers\n",
        "        self.layer_sizes = layer_sizes\n",
        "        self.activation = activation\n",
        "        self.learning_rate = learning_rate\n",
        "        self.weight_init = weight_init\n",
        "        self.batch_size = batch_size\n",
        "        self.num_epochs = num_epochs\n",
        "\n",
        "        if activation not in self.acti_fns:\n",
        "            raise Exception('Incorrect Activation Function')\n",
        "\n",
        "        if weight_init not in self.weight_inits:\n",
        "            raise Exception('Incorrect Weight Initialization Function')\n",
        "        #pass\n",
        "\n",
        "    def compare_with_mlp(self,loss_from_your_model,X,y):\n",
        "        # comparing with MLP\n",
        "        # X is all data and Y is all labels\n",
        "        X_train, X_test, y_train, y_test = train_test_split(X, y, test_size=0.1)\n",
        "\n",
        "        self.mlp = MLPClassifier(hidden_layer_sizes=(256, 128, 64), activation ='relu',solver = 'sgd' , alpha = 0, batch_size = 1,max_iter=25, learning_rate_init = 0.01, learning_rate = 'constant',shuffle=True,momentum = 0,nesterovs_momentum=False,validation_fraction = 0.1)\n",
        "\n",
        "        self.mlp.fit(X_train, y_train)\n",
        "\n",
        "        self.output = self.mlp.score(X_test, y_test)\n",
        "        print(self.output)\n",
        "\n",
        "        loss_from_sklearn = self.mlp.loss_curve_\n",
        "        print(loss_from_sklearn)\n",
        "\n",
        "        plt.plot(loss_from_sklearn,label=\"sklearn\")\n",
        "        plt.plot(loss_from_your_model,label=\"your NN\")\n",
        "        plt.legend(loc=\"upper left\")\n",
        "        plt.savefig(\"result.png\")\n",
        "        plt.close()\n",
        "\n",
        "    def relu(self, X):\n",
        "        \"\"\"\n",
        "        Calculating the ReLU activation for a particular layer\n",
        "\n",
        "        Parameters\n",
        "        ----------\n",
        "        X : 1-dimentional numpy array [zl = wlal-1 + bl]\n",
        "\n",
        "        Returns\n",
        "        -------\n",
        "        x_calc : 1-dimensional numpy array after calculating the necessary function over X [al]\n",
        "        \"\"\"\n",
        "\n",
        "        X_calc = np.maximum(0.,X)\n",
        "        return X_calc\n",
        "\n",
        "    def relu_grad(self, X):\n",
        "        \"\"\"\n",
        "        Calculating the gradient of ReLU activation for a particular layer\n",
        "\n",
        "        Parameters\n",
        "        ----------\n",
        "        X : 1-dimentional numpy array [zl]\n",
        "\n",
        "        Returns\n",
        "        -------\n",
        "        x_calc : 1-dimensional numpy array after calculating the necessary function over X [zl']\n",
        "        \"\"\"\n",
        "\n",
        "        X_calc = np.greater(X, 0.).astype(np.float64)\n",
        "        return X_calc\n",
        "\n",
        "    def sigmoid(self, X):\n",
        "        \"\"\"\n",
        "        Calculating the Sigmoid activation for a particular layer\n",
        "\n",
        "        Parameters\n",
        "        ----------\n",
        "        X : 1-dimentional numpy array\n",
        "\n",
        "        Returns\n",
        "        -------\n",
        "        x_calc : 1-dimensional numpy array after calculating the necessary function over X\n",
        "        \"\"\"\n",
        "\n",
        "        X_calc = 1.0/(1+np.exp(-X))\n",
        "        return X_calc\n",
        "\n",
        "    def sigmoid_grad(self, X):\n",
        "        \"\"\"\n",
        "        Calculating the gradient of Sigmoid activation for a particular layer\n",
        "\n",
        "        Parameters\n",
        "        ----------\n",
        "        X : 1-dimentional numpy array\n",
        "\n",
        "        Returns\n",
        "        -------\n",
        "        x_calc : 1-dimensional numpy array after calculating the necessary function over X\n",
        "        \"\"\"\n",
        "        s = self.sigmoid(X)\n",
        "        X_calc = s*(1-s)\n",
        "        return X_calc\n",
        "\n",
        "    def linear(self, X):\n",
        "        \"\"\"\n",
        "        Calculating the Linear activation for a particular layer\n",
        "\n",
        "        Parameters\n",
        "        ----------\n",
        "        X : 1-dimentional numpy array\n",
        "\n",
        "        Returns\n",
        "        -------\n",
        "        x_calc : 1-dimensional numpy array after calculating the necessary function over X\n",
        "        \"\"\"\n",
        "\n",
        "        X_calc = X.copy()\n",
        "        return X_calc\n",
        "\n",
        "    def linear_grad(self, X):\n",
        "        \"\"\"\n",
        "        Calculating the gradient of Linear activation for a particular layer\n",
        "\n",
        "        Parameters\n",
        "        ----------\n",
        "        X : 1-dimentional numpy array\n",
        "\n",
        "        Returns\n",
        "        -------\n",
        "        x_calc : 1-dimensional numpy array after calculating the necessary function over X\n",
        "        \"\"\"\n",
        "\n",
        "        X_calc = np.ones(len(X))\n",
        "        return X_calc\n",
        "\n",
        "    def tanh(self, X):\n",
        "        \"\"\"\n",
        "        Calculating the Tanh activation for a particular layer\n",
        "\n",
        "        Parameters\n",
        "        ----------\n",
        "        X : 1-dimentional numpy array\n",
        "\n",
        "        Returns\n",
        "        -------\n",
        "        x_calc : 1-dimensional numpy array after calculating the necessary function over X\n",
        "        \"\"\"\n",
        "\n",
        "        X_calc = (np.exp(X)-np.exp(-X))/(np.exp(X)+np.exp(-X))\n",
        "        return X_calc\n",
        "\n",
        "    def tanh_grad(self, X):\n",
        "        \"\"\"\n",
        "        Calculating the gradient of Tanh activation for a particular layer\n",
        "\n",
        "        Parameters\n",
        "        ----------\n",
        "        X : 1-dimentional numpy array\n",
        "\n",
        "        Returns\n",
        "        -------\n",
        "        x_calc : 1-dimensional numpy array after calculating the necessary function over X\n",
        "        \"\"\"\n",
        "        t = self.tanh(X)\n",
        "        X_calc = 1-t**2\n",
        "        return X_calc\n",
        "\n",
        "    def softmax(self, X):\n",
        "        \"\"\"\n",
        "        Calculating the ReLU activation for a particular layer\n",
        "\n",
        "        Parameters\n",
        "        ----------\n",
        "        X : 1-dimentional numpy array\n",
        "\n",
        "        Returns\n",
        "        -------\n",
        "        x_calc : 1-dimensional numpy array after calculating the necessary function over X\n",
        "        \"\"\"\n",
        "\n",
        "        #denom1 = np.sum([np.exp(x) for x in X])\n",
        "        #X_calc = [np.exp(x)/denom1 for x in X]\n",
        "        e_x = np.exp(X)\n",
        "        return e_x / e_x.sum()\n",
        "        #return np.array(X_calc)\n",
        "\n",
        "    def softmax_grad(self, X):\n",
        "        \"\"\"\n",
        "        Calculating the gradient of Softmax activation for a particular layer\n",
        "\n",
        "        Parameters\n",
        "        ----------\n",
        "        X : 1-dimentional numpy array\n",
        "\n",
        "        Returns\n",
        "        -------\n",
        "        x_calc : 2-dimensional numpy array after calculating the necessary function over X\n",
        "        \"\"\"\n",
        "\n",
        "        \"\"\"sm = self.softmax(X)\n",
        "        X_calc = np.zeros((len(X), len(X)))\n",
        "        for i in range(0, len(X)):\n",
        "          for j in range(0, len(X)):\n",
        "            if (i==j):\n",
        "              X_calc[i][j] = sm[i]*(1-sm[i])\n",
        "            else:\n",
        "              X_calc[i][j] = -1*sm[i]*sm[j]\"\"\"\n",
        "        soft = self.softmax(X)\n",
        "        s = soft.reshape(-1,1)\n",
        "        return np.diagflat(s) - np.dot(s, s.T)\n",
        "        #return X_calc\n",
        "\n",
        "    def zero_init(self, shape):\n",
        "        \"\"\"\n",
        "        Calculating the initial weights after Zero Activation for a particular layer\n",
        "\n",
        "        Parameters\n",
        "        ----------\n",
        "        shape : tuple specifying the shape of the layer for which weights have to be generated  nl-1 x nl\n",
        "\n",
        "        Returns\n",
        "        -------\n",
        "        weight : 2-dimensional numpy array which contains the initial weights for the requested layer\n",
        "        \"\"\"\n",
        "\n",
        "        weight_calc = np.zeros((shape[1], shape[0]))\n",
        "        return weight_calc\n",
        "\n",
        "    def random_init(self, shape):\n",
        "        \"\"\"\n",
        "        Calculating the initial weights after Random Activation for a particular layer\n",
        "\n",
        "        Parameters\n",
        "        ----------\n",
        "        shape : tuple specifying the shape of the layer for which weights have to be generated\n",
        "\n",
        "        Returns\n",
        "        -------\n",
        "        weight : 2-dimensional numpy array which contains the initial weights for the requested layer\n",
        "        \"\"\"\n",
        "\n",
        "        weight_calc = np.random.uniform(-1,1,(shape[1],shape[0])) * 0.01\n",
        "        return weight_calc\n",
        "\n",
        "    def normal_init(self, shape):\n",
        "        \"\"\"\n",
        "        Calculating the initial weights after Normal(0,1) Activation for a particular layer\n",
        "\n",
        "        Parameters\n",
        "        ----------\n",
        "        shape : tuple specifying the shape of the layer for which weights have to be generated\n",
        "\n",
        "        Returns\n",
        "        -------\n",
        "        weight : 2-dimensional numpy array which contains the initial weights for the requested layer\n",
        "        \"\"\"\n",
        "\n",
        "        weight_calc = np.random.normal(size=[shape[1], shape[0]]) * 0.01\n",
        "        return weight_calc\n",
        "\n",
        "    def valloss(self, X, Y):\n",
        "        \"\"\"\n",
        "        Predicting probabilities using the trained linear model.\n",
        "​\n",
        "        Parameters\n",
        "        ----------\n",
        "        X : 2-dimensional numpy array of shape (n_samples, n_features) which acts as testing data.\n",
        "​\n",
        "        Returns\n",
        "        -------\n",
        "        y : 2-dimensional numpy array of shape (n_samples, n_classes) which contains the\n",
        "            class wise prediction probabilities.\n",
        "        \"\"\"\n",
        "        val_loss = 0.0\n",
        "        x_input = X.copy()\n",
        "        y_input = np.zeros((len(X), self.num_classes))\n",
        "        for i in range(0, len(X)):\n",
        "          ind = Y[i]\n",
        "          y_input[i][int(ind)] = 1\n",
        "        #print(pred_prob)\n",
        "        for i in range(0, len(X)):\n",
        "          #layer 0\n",
        "          self.a[0] = x_input[i].copy()\n",
        "          # FORWARD PASS\n",
        "          for l in range(1, self.n_layers):\n",
        "            self.z[l] = np.dot(self.weights[l], self.a[l-1])\n",
        "            if (self.activation=='relu'):\n",
        "              self.a[l] = self.relu(self.z[l])\n",
        "            elif (self.activation=='sigmoid'):\n",
        "              self.a[l] = self.sigmoid(self.z[l])\n",
        "            elif (self.activation=='linear'):\n",
        "              self.a[l] = self.linear(self.z[l])\n",
        "            elif (self.activation=='tanh'):\n",
        "              self.a[l] = self.tanh(self.z[l])\n",
        "            elif (self.activation=='softmax'):\n",
        "              self.a[l] = self.softmax(self.z[l])\n",
        "            else:\n",
        "              print(\"activation fun not valid!\")\n",
        "\n",
        "          self.z[self.n_layers] = np.dot(self.weights[self.n_layers], self.a[self.n_layers-1])\n",
        "          self.a[self.n_layers] = self.softmax(self.z[self.n_layers])\n",
        "\n",
        "          for j in range(0, 10):\n",
        "            if (y_input[i][j]==1):\n",
        "              break\n",
        "          val_loss += np.log2(self.a[self.n_layers][j])\n",
        "\n",
        "        # return the numpy array y which contains the predicted values\n",
        "        return val_loss\n",
        "\n",
        "    def fit(self, X, y, Xval, Yval):\n",
        "        \"\"\"\n",
        "        Fitting (training) the linear model.\n",
        "\n",
        "        Parameters\n",
        "        ----------\n",
        "        X : 2-dimensional numpy array of shape (n_samples, n_features) which acts as training data.\n",
        "\n",
        "        y : 1-dimensional numpy array of shape (n_samples,) which acts as training labels.\n",
        "\n",
        "        Returns\n",
        "        -------\n",
        "        self : an instance of self\n",
        "        \"\"\"\n",
        "        self.train_loss = {}\n",
        "        self.val_loss = {}\n",
        "        count = 0\n",
        "\n",
        "        for i in range(0,26):\n",
        "          self.train_loss[i]=0.0\n",
        "          self.val_loss[i]=0.0\n",
        "\n",
        "        #step-0 - convert y to 1 hot encoded\n",
        "        self.num_classes = 10 #10\n",
        "        x_input = X.copy()\n",
        "        #y_input = y.copy()\n",
        "        y_input = np.zeros((len(X), self.num_classes))\n",
        "        for i in range(0, len(X)):\n",
        "          ind = y[i]\n",
        "          y_input[i][int(ind)] = 1\n",
        "\n",
        "        #INIT - x_input, y_input [one hot encoded]\n",
        "        self.weights = {}\n",
        "        self.bias = {}\n",
        "        self.a = {}\n",
        "        self.z = {}\n",
        "\n",
        "        #layer 0 - input layer\n",
        "        self.layer_sizes = np.insert(self.layer_sizes, 0, len(x_input[0]))\n",
        "\n",
        "        #layer l - [1,#layers]\n",
        "        for layer in range(1,self.n_layers+1):\n",
        "          if (self.weight_init=='zero'):\n",
        "            temp = [self.layer_sizes[layer-1], self.layer_sizes[layer]]\n",
        "            self.weights[layer] = self.zero_init(temp)\n",
        "          elif (self.weight_init=='random'):\n",
        "            self.weights[layer] = self.random_init([self.layer_sizes[layer-1], self.layer_sizes[layer]])\n",
        "          elif (self.weight_init=='normal'):\n",
        "            self.weights[layer] = self.normal_init([self.layer_sizes[layer-1], self.layer_sizes[layer]])\n",
        "          else:\n",
        "            print(\"weight init not valid!\")\n",
        "          self.bias[layer] = np.zeros(self.layer_sizes[layer])\n",
        "        pk.dump(nn.bias,open('bias'+str(1)+'.pkl','wb'), protocol=pk.HIGHEST_PROTOCOL)\n",
        "        return\n",
        "\n",
        "        \"\"\"for l in range(1, self.n_layers+1):\n",
        "          print(\"layer \"+str(l))\n",
        "          print(self.weights[l].shape)\"\"\"\n",
        "\n",
        "        # MINI BATCH SGD\n",
        "        for epoch in range(1,self.num_epochs+1):\n",
        "          print(\"epoch : \"+str(epoch))\n",
        "          countl = 1\n",
        "          left_indices = [i for i in range(0, len(x_input))]\n",
        "          #random.shuffle(left_indices)\n",
        "          #1500 iterations\n",
        "          while(len(left_indices)>0):\n",
        "            #0. init + random shuffle\n",
        "            self.loss = 0\n",
        "            self.deriv_weights = {}\n",
        "            for l in range(1, self.n_layers+1):\n",
        "              self.deriv_weights[l] = np.zeros((self.layer_sizes[l], self.layer_sizes[l-1]))\n",
        "\n",
        "            #1. randomly sample batch_size samples without replacement\n",
        "            indices = random.sample(left_indices, self.batch_size)\n",
        "            left_indices = [i for i in left_indices if i not in indices]\n",
        "            #random.shuffle(left_indices)\n",
        "\n",
        "            for i in indices:\n",
        "              #layer 0\n",
        "              self.a[0] = x_input[i].copy()\n",
        "              # FORWARD PASS\n",
        "              for l in range(1, self.n_layers):\n",
        "                self.z[l] = np.dot(self.weights[l], self.a[l-1])\n",
        "                if (self.activation=='relu'):\n",
        "                  self.a[l] = self.relu(self.z[l])\n",
        "                elif (self.activation=='sigmoid'):\n",
        "                  self.a[l] = self.sigmoid(self.z[l])\n",
        "                elif (self.activation=='linear'):\n",
        "                  self.a[l] = self.linear(self.z[l])\n",
        "                elif (self.activation=='tanh'):\n",
        "                  self.a[l] = self.tanh(self.z[l])\n",
        "                elif (self.activation=='softmax'):\n",
        "                  self.a[l] = self.softmax(self.z[l])\n",
        "                else:\n",
        "                  print(\"activation fun not valid!\")\n",
        "                #assertions\n",
        "                assert self.z[l].ndim==1\n",
        "                assert self.a[l].ndim==1\n",
        "                assert(len(self.a[l])==self.layer_sizes[l])\n",
        "                assert(len(self.z[l])==self.layer_sizes[l])\n",
        "                #----------\n",
        "\n",
        "              self.z[self.n_layers] = np.dot(self.weights[self.n_layers], self.a[self.n_layers-1])\n",
        "              self.a[self.n_layers] = self.softmax(self.z[self.n_layers]) #softmax in last layer\n",
        "              #assertions\n",
        "              assert self.z[self.n_layers].ndim==1\n",
        "              assert self.a[self.n_layers].ndim==1\n",
        "              assert(len(self.a[self.n_layers])==self.layer_sizes[self.n_layers])\n",
        "              assert(len(self.z[self.n_layers])==self.layer_sizes[self.n_layers])\n",
        "              #----------\n",
        "              #h_theta(x) = a[lastlayer]\n",
        "              for j in range(0, 10):\n",
        "                if (y_input[i][j]==1):\n",
        "                    break\n",
        "              loss1 = np.log2(self.a[self.n_layers][j])\n",
        "              #self.loss = -1*np.log2(self.a[self.n_layers][y_input[i]]) #update for one hot encoded y\n",
        "\n",
        "              \"\"\"for l in range(1, self.n_layers+1):\n",
        "                print(\"layer \"+str(l))\n",
        "                print(self.a[l].shape)\n",
        "                print(self.z[l].shape)\"\"\"\n",
        "\n",
        "              # BACKWARD PASS\n",
        "              #update rule : w = w - alpha* dJ/dw\n",
        "              self.delta = {}\n",
        "              for layer in range(self.n_layers,0,-1):\n",
        "                if (layer==self.n_layers):\n",
        "                  #base case\n",
        "                  self.delta[layer] = self.a[self.n_layers] - y_input[i]\n",
        "                else:\n",
        "                  if (self.activation=='relu'):\n",
        "                    deriv_af = self.relu_grad(self.z[layer])\n",
        "                  elif (self.activation=='sigmoid'):\n",
        "                    deriv_af = self.sigmoid_grad(self.z[layer])\n",
        "                  elif (self.activation=='linear'):\n",
        "                    deriv_af = self.linear_grad(self.z[layer])\n",
        "                  elif (self.activation=='tanh'):\n",
        "                    deriv_af = self.tanh_grad(self.z[layer])\n",
        "                  elif (self.activation=='softmax'):\n",
        "                    deriv_af = self.softmax_grad(self.z[layer])\n",
        "                  else:\n",
        "                    print(\"activation fun grad not valid!\")\n",
        "\n",
        "                  \"\"\"if self.delta[layer+1].ndim==1:\n",
        "                    temp4 = self.delta[layer+1].reshape(len(self.delta[layer+1]), 1)\n",
        "                  else:\n",
        "                    temp4 = self.delta[layer+1].copy()\"\"\"\n",
        "                  weight_del = np.dot(np.transpose(self.weights[layer+1]), self.delta[layer+1])\n",
        "                  #assertions\n",
        "                  assert self.delta[layer+1].ndim==1, str(self.delta[layer+1].shape)\n",
        "                  #assert deriv_af.ndim==1 #violated in softmax grad\n",
        "                  assert weight_del.ndim==1, str(weight_del.shape)+\" \"+str(layer) #must be 1 d (else @ would be bw 2 matrices (rn bw matrix and vector))\n",
        "                  #---------\n",
        "                  if deriv_af.ndim==1:\n",
        "                    temp6 = deriv_af.reshape(len(deriv_af), 1)\n",
        "                  else:\n",
        "                    temp6 = deriv_af.copy()\n",
        "                  if weight_del.ndim==1:\n",
        "                    temp7 = weight_del.reshape(len(weight_del), 1)\n",
        "                  else:\n",
        "                    temp7 = weight_del.copy()\n",
        "                  if (self.activation=='softmax'):\n",
        "                    self.delta[layer] = temp6 @ temp7\n",
        "                  else:\n",
        "                    self.delta[layer] = np.multiply(temp6, temp7)\n",
        "                  self.delta[layer] = self.delta[layer][:,0]\n",
        "\n",
        "                #store weight gradients\n",
        "                \"\"\"if self.a[layer-1].ndim==1:\n",
        "                  temp2 = self.a[layer-1].reshape(len(self.a[layer-1]),1) #CHANGED added this\n",
        "                else:\n",
        "                  temp2 = self.a[layer-1].copy()\n",
        "                if self.delta[layer].ndim==1:\n",
        "                  temp3 = self.delta[layer].reshape(len(self.delta[layer]),1) #CHANGED added this\n",
        "                else:\n",
        "                  temp3 = self.delta[layer].copy()\"\"\"\n",
        "                self.deriv_weights[layer] += np.dot(self.delta[layer].reshape(len(self.delta[layer]), 1), self.a[layer-1].reshape(1, len(self.a[layer-1]))) #CHANGED TO delta dot at\n",
        "\n",
        "            #update weights, biases\n",
        "            for l in range(1, self.n_layers+1):\n",
        "              self.weights[l] -= (self.learning_rate/self.batch_size) * self.deriv_weights[l]\n",
        "\n",
        "            self.train_loss[count] += loss1\n",
        "            #print(train_loss[epoch]/len(X))\n",
        "            countl += 1\n",
        "            if countl%1000==0:\n",
        "              print(\"count : \"+str(countl))\n",
        "            if countl%9600==0:\n",
        "              #self.val_loss[count] += self.valloss(Xval, Yval)\n",
        "              #pk.dump(nn.weights,open('weights'+str(count)+'.pkl','wb'), protocol=pk.HIGHEST_PROTOCOL)\n",
        "              #--\n",
        "              vl = 0.0\n",
        "              y_input1 = np.zeros((len(X_val), self.num_classes))\n",
        "              for i1 in range(0, len(X_val)):\n",
        "                ind = Y_val[i1]\n",
        "                y_input1[i1][int(ind)] = 1\n",
        "              #print(pred_prob)\n",
        "              for i1 in range(0, len(X_val)):\n",
        "                #layer 0\n",
        "                self.a[0] = X_val[i1].copy()\n",
        "                # FORWARD PASS\n",
        "                for l in range(1, self.n_layers):\n",
        "                  self.z[l] = np.dot(self.weights[l], self.a[l-1])\n",
        "                  if (self.activation=='relu'):\n",
        "                    self.a[l] = self.relu(self.z[l])\n",
        "                  elif (self.activation=='sigmoid'):\n",
        "                    self.a[l] = self.sigmoid(self.z[l])\n",
        "                  elif (self.activation=='linear'):\n",
        "                    self.a[l] = self.linear(self.z[l])\n",
        "                  elif (self.activation=='tanh'):\n",
        "                    self.a[l] = self.tanh(self.z[l])\n",
        "                  elif (self.activation=='softmax'):\n",
        "                    self.a[l] = self.softmax(self.z[l])\n",
        "                  else:\n",
        "                    print(\"activation fun not valid!\")\n",
        "\n",
        "                self.z[self.n_layers] = np.dot(self.weights[self.n_layers], self.a[self.n_layers-1])\n",
        "                self.a[self.n_layers] = self.softmax(self.z[self.n_layers])\n",
        "\n",
        "                for j in range(0, 10):\n",
        "                  if (y_input1[i1][j]==1):\n",
        "                    break\n",
        "                vl += np.log2(self.a[self.n_layers][j])\n",
        "              #--\n",
        "              self.val_loss[count] = vl\n",
        "              print(self.train_loss[count])\n",
        "              print(self.val_loss[count])\n",
        "              count += 1\n",
        "              #print(self.val_loss[count])\n",
        "\n",
        "          #val_loss[count] += self.valloss(Xval, Yval)\n",
        "            #print(val_loss[epoch])\n",
        "\n",
        "            if(count==13 or count==25):\n",
        "              pk.dump(nn.weights,open('weightsrelu_'+str(count)+'.pkl','wb'), protocol=pk.HIGHEST_PROTOCOL)\n",
        "\n",
        "\n",
        "        # fit function has to return an instance of itself or else it won't work with test.py\n",
        "        return self\n",
        "\n",
        "    def predict_proba(self, X):\n",
        "        \"\"\"\n",
        "        Predicting probabilities using the trained linear model.\n",
        "\n",
        "        Parameters\n",
        "        ----------\n",
        "        X : 2-dimensional numpy array of shape (n_samples, n_features) which acts as testing data.\n",
        "\n",
        "        Returns\n",
        "        -------\n",
        "        y : 2-dimensional numpy array of shape (n_samples, n_classes) which contains the\n",
        "            class wise prediction probabilities.\n",
        "        \"\"\"\n",
        "        pred_prob = np.zeros((len(X), self.num_classes))\n",
        "        x_input = X.copy()\n",
        "        #print(pred_prob)\n",
        "        for i in range(0, len(X)):\n",
        "          #layer 0\n",
        "          self.a[0] = x_input[i].copy()\n",
        "          # FORWARD PASS\n",
        "          for l in range(1, self.n_layers):\n",
        "            self.z[l] = np.dot(self.weights[l], self.a[l-1])\n",
        "            if (self.activation=='relu'):\n",
        "              self.a[l] = self.relu(self.z[l])\n",
        "            elif (self.activation=='sigmoid'):\n",
        "              self.a[l] = self.sigmoid(self.z[l])\n",
        "            elif (self.activation=='linear'):\n",
        "              self.a[l] = self.linear(self.z[l])\n",
        "            elif (self.activation=='tanh'):\n",
        "              self.a[l] = self.tanh(self.z[l])\n",
        "            elif (self.activation=='softmax'):\n",
        "              self.a[l] = self.softmax(self.z[l])\n",
        "            else:\n",
        "              print(\"activation fun not valid!\")\n",
        "\n",
        "          self.z[self.n_layers] = np.dot(self.weights[self.n_layers], self.a[self.n_layers-1])\n",
        "          self.a[self.n_layers] = self.softmax(self.z[self.n_layers])\n",
        "\n",
        "          pred_prob[i] = self.a[self.n_layers].copy()\n",
        "\n",
        "        # return the numpy array y which contains the predicted values\n",
        "        #print(pred_prob)\n",
        "        return pred_prob\n",
        "\n",
        "    def predict(self, X):\n",
        "        \"\"\"\n",
        "        Predicting values using the trained linear model.\n",
        "\n",
        "        Parameters\n",
        "        ----------\n",
        "        X : 2-dimensional numpy array of shape (n_samples, n_features) which acts as testing data.\n",
        "\n",
        "        Returns\n",
        "        -------\n",
        "        y : 1-dimensional numpy array of shape (n_samples,) which contains the predicted values.\n",
        "        \"\"\"\n",
        "        #get predicted prob\n",
        "        pred_prob = self.predict_proba(X)\n",
        "        pred = np.zeros(len(X))\n",
        "\n",
        "        for i in range(0, len(X)):\n",
        "          prob1 = pred_prob[i]\n",
        "          pred[i] = np.argmax(prob1)\n",
        "\n",
        "        # return the numpy array y which contains the predicted values\n",
        "        return pred\n",
        "\n",
        "    def score(self, X, y):\n",
        "        \"\"\"\n",
        "        Predicting values using the trained linear model.\n",
        "\n",
        "        Parameters\n",
        "        ----------\n",
        "        X : 2-dimensional numpy array of shape (n_samples, n_features) which acts as testing data.\n",
        "\n",
        "        y : 1-dimensional numpy array of shape (n_samples,) which acts as testing labels.\n",
        "\n",
        "        Returns\n",
        "        -------\n",
        "        acc : float value specifying the accuracy of the model on the provided testing set\n",
        "        \"\"\"\n",
        "        self.a = {}\n",
        "        self.z = {}\n",
        "        self.num_classes=10\n",
        "        #get predictions\n",
        "        pred = self.predict(X)\n",
        "        score = accuracy_score(y, pred)\n",
        "\n",
        "        # return the numpy array y which contains the predicted values\n",
        "        return score"
      ]
    },
    {
      "cell_type": "markdown",
      "metadata": {
        "id": "WS26wvAcptyh"
      },
      "source": [
        "MNIST Testing"
      ]
    },
    {
      "cell_type": "markdown",
      "metadata": {
        "id": "OYo1SAn5qKL_"
      },
      "source": [
        "more"
      ]
    },
    {
      "cell_type": "code",
      "execution_count": null,
      "metadata": {
        "id": "QNLKOX7upvpb"
      },
      "outputs": [],
      "source": [
        "! gdown --id 1KlHddR1fMXyzzDoEJ0zIZEnEjwOQh3uN"
      ]
    },
    {
      "cell_type": "code",
      "execution_count": null,
      "metadata": {
        "id": "ZdIOApxrpVLb"
      },
      "outputs": [],
      "source": [
        "from sklearn.model_selection import train_test_split\n",
        "from sklearn.model_selection import KFold\n",
        "from sklearn.preprocessing import MinMaxScaler"
      ]
    },
    {
      "cell_type": "code",
      "execution_count": null,
      "metadata": {
        "id": "KZBorbs7rq70"
      },
      "outputs": [],
      "source": [
        "dataset = pd.read_csv(\"fashion-mnist_train.csv\")\n",
        "X = dataset.drop([\"label\"], axis=1).to_numpy()\n",
        "Y = dataset[\"label\"].to_numpy()"
      ]
    },
    {
      "cell_type": "code",
      "execution_count": null,
      "metadata": {
        "id": "lScs0dOzxE8J"
      },
      "outputs": [],
      "source": [
        "norm = MinMaxScaler().fit(X_train)\n",
        "X_train = norm.transform(X_train)\n",
        "X_val = norm.transform(X_val)\n",
        "X_test = norm.transform(X_test)"
      ]
    },
    {
      "cell_type": "code",
      "execution_count": null,
      "metadata": {
        "colab": {
          "base_uri": "https://localhost:8080/",
          "height": 281
        },
        "id": "jjWNrwYtocbA",
        "outputId": "760c4839-45fb-407f-d855-6d8e7e492319"
      },
      "outputs": [
        {
          "data": {
            "image/png": "[encoded data removed]",
            "text/plain": [
              "<Figure size 432x288 with 1 Axes>"
            ]
          },
          "metadata": {
            "needs_background": "light"
          },
          "output_type": "display_data"
        }
      ],
      "source": [
        "# balanced classes\n",
        "hist = dataset.hist(column='label',legend=True)"
      ]
    },
    {
      "cell_type": "code",
      "execution_count": null,
      "metadata": {
        "colab": {
          "base_uri": "https://localhost:8080/"
        },
        "id": "pu73cEpnpEL0",
        "outputId": "f44ca0e7-e295-451a-d8be-12cf3e0152da"
      },
      "outputs": [
        {
          "data": {
            "text/plain": [
              "0"
            ]
          },
          "execution_count": 17,
          "metadata": {},
          "output_type": "execute_result"
        }
      ],
      "source": [
        "#no null rows\n",
        "sum(dataset.isnull().sum() == 1)"
      ]
    },
    {
      "cell_type": "code",
      "execution_count": null,
      "metadata": {
        "id": "jcR2lb7lojFv"
      },
      "outputs": [],
      "source": [
        "# 80-10-10 split\n",
        "#test_size = 0.1 as need to have 90% train-validation size and 10% test size\n",
        "X_train_val, X_test, Y_train_val, Y_test = train_test_split(X, Y, test_size=0.1)\n",
        "\n",
        "#test_size=0.1/0.9 as need to have 10% validation set size and 80% train set size\n",
        "X_train, X_val, Y_train, Y_val = train_test_split(X_train_val, Y_train_val, test_size=0.1/0.9)"
      ]
    },
    {
      "cell_type": "code",
      "execution_count": null,
      "metadata": {
        "id": "hiv6NBeM7JZf"
      },
      "outputs": [],
      "source": [
        "X_train = X_train.astype('float64')\n",
        "X_val = X_val.astype('float64')"
      ]
    },
    {
      "cell_type": "code",
      "execution_count": null,
      "metadata": {
        "colab": {
          "base_uri": "https://localhost:8080/"
        },
        "id": "iYnEr3k3XAx1",
        "outputId": "0132e485-330f-47f2-d0ee-a28d6454d9f1"
      },
      "outputs": [
        {
          "data": {
            "text/plain": [
              "dtype('float64')"
            ]
          },
          "execution_count": 9,
          "metadata": {},
          "output_type": "execute_result"
        }
      ],
      "source": [
        "X_train.dtype"
      ]
    },
    {
      "cell_type": "code",
      "execution_count": null,
      "metadata": {
        "id": "gKql_bX4ocfR"
      },
      "outputs": [],
      "source": [
        "l = 5\n",
        "ls = np.array([len(X[0]), 256, 128, 64, 10])\n",
        "a = 'relu'\n",
        "lr = 0.01\n",
        "wi = 'normal'\n",
        "bs = 1\n",
        "ne = 5\n",
        "nn = MyNeuralNetwork(l,ls,a,lr,wi,bs,ne)"
      ]
    },
    {
      "cell_type": "code",
      "execution_count": null,
      "metadata": {
        "id": "s6By6abhock5"
      },
      "outputs": [],
      "source": [
        "nn.fit(X_train,Y_train, X_val, Y_val)"
      ]
    },
    {
      "cell_type": "code",
      "execution_count": null,
      "metadata": {
        "id": "1aXefXZi52L2"
      },
      "outputs": [],
      "source": [
        "pk.dump(nn.weights,open('weights.pkl','wb'), protocol=pk.HIGHEST_PROTOCOL)\n",
        "weights = pk.load(open('weights.pkl','rb' ))"
      ]
    },
    {
      "cell_type": "code",
      "execution_count": null,
      "metadata": {
        "id": "qPvWQTljkfQz"
      },
      "outputs": [],
      "source": [
        "import matplotlib.pyplot as plt"
      ]
    },
    {
      "cell_type": "code",
      "execution_count": null,
      "metadata": {
        "id": "AGg5ZbGCokRu"
      },
      "outputs": [],
      "source": [
        "a1 = np.array(list(nn.train_loss.values()))/-9600\n",
        "a2 = np.array(list(nn.val_loss.values()))/-6000"
      ]
    },
    {
      "cell_type": "code",
      "execution_count": null,
      "metadata": {
        "colab": {
          "base_uri": "https://localhost:8080/",
          "height": 312
        },
        "id": "_auCn_Qjkf0q",
        "outputId": "fa79ac07-5a7f-49ac-bd70-b8d884df0d78"
      },
      "outputs": [
        {
          "data": {
            "text/plain": [
              "<matplotlib.legend.Legend at 0x7fb98ba19250>"
            ]
          },
          "execution_count": 15,
          "metadata": {},
          "output_type": "execute_result"
        },
        {
          "data": {
            "image/png": "[encoded data removed]",
            "text/plain": [
              "<Figure size 432x288 with 1 Axes>"
            ]
          },
          "metadata": {
            "needs_background": "light"
          },
          "output_type": "display_data"
        }
      ],
      "source": [
        "plt.plot(np.arange(1,26),a1, label='train loss')\n",
        "plt.plot(np.arange(1,26),a2, label='val loss')\n",
        "plt.xlabel('Epoch')\n",
        "plt.ylabel('Loss')\n",
        "plt.title('Epochs vs loss for NN')\n",
        "plt.legend()"
      ]
    },
    {
      "cell_type": "code",
      "execution_count": null,
      "metadata": {
        "id": "Tehy6wV4qhDe"
      },
      "outputs": [],
      "source": [
        "DF1 = pd.DataFrame(a1)\n",
        "DF2 = pd.DataFrame(a2)\n",
        "DF1.to_csv(\"trainloss_relu.csv\")\n",
        "DF2.to_csv(\"valloss_relu.csv\")"
      ]
    },
    {
      "cell_type": "code",
      "execution_count": null,
      "metadata": {
        "id": "iwhX1cMN3kMp"
      },
      "outputs": [],
      "source": [
        "#test accuracies - epoch 25\n",
        "nn.weights = pk.load(open('weights1_25.pkl','rb' ))"
      ]
    },
    {
      "cell_type": "code",
      "execution_count": null,
      "metadata": {
        "colab": {
          "base_uri": "https://localhost:8080/"
        },
        "id": "BMsn3zd35aUH",
        "outputId": "7ac80260-90e4-430a-8359-21b48d2bacf3"
      },
      "outputs": [
        {
          "data": {
            "text/plain": [
              "0.867"
            ]
          },
          "execution_count": 36,
          "metadata": {},
          "output_type": "execute_result"
        }
      ],
      "source": [
        "nn.score(X_test, Y_test)"
      ]
    },
    {
      "cell_type": "code",
      "execution_count": null,
      "metadata": {
        "id": "U3zZ0fwKE6r2"
      },
      "outputs": [],
      "source": [
        "#test accuracies - epoch 13\n",
        "nn.weights = pk.load(open('weightsrelu_13 (1).pkl','rb' ))"
      ]
    },
    {
      "cell_type": "code",
      "execution_count": null,
      "metadata": {
        "colab": {
          "base_uri": "https://localhost:8080/"
        },
        "id": "GKhgZ7ezE7y6",
        "outputId": "b67dd819-92db-41ea-b3aa-aa0b215f5f97"
      },
      "outputs": [
        {
          "data": {
            "text/plain": [
              "0.8413333333333334"
            ]
          },
          "execution_count": 41,
          "metadata": {},
          "output_type": "execute_result"
        }
      ],
      "source": [
        "nn.score(X_test, Y_test)"
      ]
    },
    {
      "cell_type": "code",
      "execution_count": null,
      "metadata": {
        "id": "0ehYg-k3Fho0"
      },
      "outputs": [],
      "source": [
        "lossmodel = pd.read_csv('trainloss_relu (1).csv', header=None)\n",
        "lm = lossmodel[1][1:26]"
      ]
    },
    {
      "cell_type": "code",
      "execution_count": null,
      "metadata": {
        "id": "dLym2TXSV3k8"
      },
      "outputs": [],
      "source": [
        "X = X.astype('float64')\n",
        "norm = MinMaxScaler().fit(X)\n",
        "X = norm.transform(X)"
      ]
    },
    {
      "cell_type": "code",
      "execution_count": null,
      "metadata": {
        "colab": {
          "base_uri": "https://localhost:8080/"
        },
        "id": "bkpguIAWFrc5",
        "outputId": "d72c3f69-ceb6-4d32-e9b8-329ad4993e9c"
      },
      "outputs": [
        {
          "name": "stderr",
          "output_type": "stream",
          "text": [
            "/usr/local/lib/python3.7/dist-packages/sklearn/neural_network/_multilayer_perceptron.py:696: ConvergenceWarning: Stochastic Optimizer: Maximum iterations (20) reached and the optimization hasn't converged yet.\n",
            "  ConvergenceWarning,\n"
          ]
        },
        {
          "name": "stdout",
          "output_type": "stream",
          "text": [
            "0.8811666666666667\n",
            "[0.534528542801962, 0.4128641356366644, 0.37387261899972224, 0.35035654258411814, 0.33000975831385004, 0.318002386713407, 0.30554919880790604, 0.29443866692361453, 0.28855784223329567, 0.2792210338070179, 0.27131752097197953, 0.26737050675682816, 0.25871877723751424, 0.25470054201195, 0.24674583525982977, 0.24310788786314824, 0.23968947573886662, 0.23705043487179583, 0.2329528769088019, 0.22791806117257993]\n"
          ]
        }
      ],
      "source": [
        "nn.compare_with_mlp(lm, X, Y)"
      ]
    }
  ],
  "metadata": {
    "colab": {
      "provenance": []
    },
    "kernelspec": {
      "display_name": "Python 3",
      "name": "python3"
    },
    "language_info": {
      "name": "python"
    }
  },
  "nbformat": 4,
  "nbformat_minor": 0
}