{
  "nbformat": 4,
  "nbformat_minor": 0,
  "metadata": {
    "colab": {
      "provenance": []
    },
    "kernelspec": {
      "name": "python3",
      "display_name": "Python 3"
    },
    "language_info": {
      "name": "python"
    }
  },
  "cells": [
    {
      "cell_type": "code",
      "execution_count": null,
      "metadata": {
        "id": "BiNqrOKvZlSh"
      },
      "outputs": [],
      "source": [
        "import numpy as np\n",
        "import pandas as pd\n",
        "from sklearn import preprocessing"
      ]
    },
    {
      "cell_type": "markdown",
      "source": [
        "0. dataset retrieval +\n",
        "integer encoding for the column that specifies the gender.'M' is labelled as 2, 'F' as 0 and 'I' as 1 +\n",
        "split data into X[input features] and Y[class label]"
      ],
      "metadata": {
        "id": "CZysr3vzwm2i"
      }
    },
    {
      "cell_type": "code",
      "source": [
        "data = pd.read_csv(\"abalone.csv\")\n",
        "label_encoder = preprocessing.LabelEncoder()\n",
        "data['sex']= label_encoder.fit_transform(data['sex'])\n",
        "X = data.iloc[:,0:8]\n",
        "Y = data.iloc[:,8:9]"
      ],
      "metadata": {
        "id": "mDQbH8zpZto-"
      },
      "execution_count": null,
      "outputs": []
    },
    {
      "cell_type": "code",
      "source": [
        "print(\"Input attributes: \")\n",
        "print(X)\n",
        "\n",
        "print(\"\")\n",
        "print(\"class labels:\")\n",
        "print(Y)"
      ],
      "metadata": {
        "colab": {
          "base_uri": "https://localhost:8080/"
        },
        "id": "8gO9OF8nxQbb",
        "outputId": "66fede69-412b-4111-fb6c-71e9588f9a9a"
      },
      "execution_count": null,
      "outputs": [
        {
          "output_type": "stream",
          "name": "stdout",
          "text": [
            "Input attributes: \n",
            "      sex  length  diameter  height  wholewt  shuckedwt  viscerawt  shellwt\n",
            "0       2   0.455     0.365   0.095   0.5140     0.2245     0.1010   0.1500\n",
            "1       2   0.350     0.265   0.090   0.2255     0.0995     0.0485   0.0700\n",
            "2       0   0.530     0.420   0.135   0.6770     0.2565     0.1415   0.2100\n",
            "3       2   0.440     0.365   0.125   0.5160     0.2155     0.1140   0.1550\n",
            "4       1   0.330     0.255   0.080   0.2050     0.0895     0.0395   0.0550\n",
            "...   ...     ...       ...     ...      ...        ...        ...      ...\n",
            "4172    0   0.565     0.450   0.165   0.8870     0.3700     0.2390   0.2490\n",
            "4173    2   0.590     0.440   0.135   0.9660     0.4390     0.2145   0.2605\n",
            "4174    2   0.600     0.475   0.205   1.1760     0.5255     0.2875   0.3080\n",
            "4175    0   0.625     0.485   0.150   1.0945     0.5310     0.2610   0.2960\n",
            "4176    2   0.710     0.555   0.195   1.9485     0.9455     0.3765   0.4950\n",
            "\n",
            "[4177 rows x 8 columns]\n",
            "\n",
            "class labels:\n",
            "      rings\n",
            "0        15\n",
            "1         7\n",
            "2         9\n",
            "3        10\n",
            "4         7\n",
            "...     ...\n",
            "4172     11\n",
            "4173     10\n",
            "4174      9\n",
            "4175     10\n",
            "4176     12\n",
            "\n",
            "[4177 rows x 1 columns]\n"
          ]
        }
      ]
    },
    {
      "cell_type": "markdown",
      "source": [
        "1. Visualizing data through histograms"
      ],
      "metadata": {
        "id": "NR8whgT9xiSO"
      }
    },
    {
      "cell_type": "markdown",
      "source": [
        "1.1 none of the attributes have missing/null values"
      ],
      "metadata": {
        "id": "HjjIT75byFEN"
      }
    },
    {
      "cell_type": "code",
      "source": [
        "data.isnull().sum().sort_values(ascending=False)/data.shape[0]"
      ],
      "metadata": {
        "colab": {
          "base_uri": "https://localhost:8080/"
        },
        "id": "D_pIrdcZyEV_",
        "outputId": "7c5e579e-44bf-4306-d5f8-52c648645995"
      },
      "execution_count": null,
      "outputs": [
        {
          "output_type": "execute_result",
          "data": {
            "text/plain": [
              "sex          0.0\n",
              "length       0.0\n",
              "diameter     0.0\n",
              "height       0.0\n",
              "wholewt      0.0\n",
              "shuckedwt    0.0\n",
              "viscerawt    0.0\n",
              "shellwt      0.0\n",
              "rings        0.0\n",
              "dtype: float64"
            ]
          },
          "metadata": {},
          "execution_count": 4
        }
      ]
    },
    {
      "cell_type": "markdown",
      "source": [
        "1.2 height attribute has some outliers which can be observed from the histogram as well as the box plot for height."
      ],
      "metadata": {
        "id": "tHX-N5iTyVNV"
      }
    },
    {
      "cell_type": "code",
      "source": [
        "hist = data.hist(figsize=[15,10],legend=True)"
      ],
      "metadata": {
        "colab": {
          "base_uri": "https://localhost:8080/",
          "height": 607
        },
        "id": "F2r9dTDxxmDu",
        "outputId": "b1b72252-cf66-4964-dc36-049c9ec60d04"
      },
      "execution_count": null,
      "outputs": [
        {
          "output_type": "display_data",
          "data": {
            "image/png": "[encoded data removed]",
            "text/plain": [
              "<Figure size 1080x720 with 9 Axes>"
            ]
          },
          "metadata": {
            "needs_background": "light"
          }
        }
      ]
    },
    {
      "cell_type": "code",
      "source": [
        "import seaborn as sns\n",
        "sns.boxplot(data['height'])"
      ],
      "metadata": {
        "colab": {
          "base_uri": "https://localhost:8080/",
          "height": 351
        },
        "id": "L1oO0nNGx6LB",
        "outputId": "35ed0a21-da62-4380-c7f6-4f6de80e89f8"
      },
      "execution_count": null,
      "outputs": [
        {
          "output_type": "stream",
          "name": "stderr",
          "text": [
            "/usr/local/lib/python3.7/dist-packages/seaborn/_decorators.py:43: FutureWarning: Pass the following variable as a keyword arg: x. From version 0.12, the only valid positional argument will be `data`, and passing other arguments without an explicit keyword will result in an error or misinterpretation.\n",
            "  FutureWarning\n"
          ]
        },
        {
          "output_type": "execute_result",
          "data": {
            "text/plain": [
              "<matplotlib.axes._subplots.AxesSubplot at 0x7f48cbca0310>"
            ]
          },
          "metadata": {},
          "execution_count": 6
        },
        {
          "output_type": "display_data",
          "data": {
            "image/png": "[encoded data removed]",
            "text/plain": [
              "<Figure size 432x288 with 1 Axes>"
            ]
          },
          "metadata": {
            "needs_background": "light"
          }
        }
      ]
    },
    {
      "cell_type": "code",
      "source": [
        "sns.boxplot(data['shuckedwt'])"
      ],
      "metadata": {
        "colab": {
          "base_uri": "https://localhost:8080/",
          "height": 351
        },
        "id": "zLqEPIC1sxLg",
        "outputId": "31256390-09de-4b0f-d545-e4f5e52a34fb"
      },
      "execution_count": null,
      "outputs": [
        {
          "output_type": "stream",
          "name": "stderr",
          "text": [
            "/usr/local/lib/python3.7/dist-packages/seaborn/_decorators.py:43: FutureWarning: Pass the following variable as a keyword arg: x. From version 0.12, the only valid positional argument will be `data`, and passing other arguments without an explicit keyword will result in an error or misinterpretation.\n",
            "  FutureWarning\n"
          ]
        },
        {
          "output_type": "execute_result",
          "data": {
            "text/plain": [
              "<matplotlib.axes._subplots.AxesSubplot at 0x7f48ccf00b90>"
            ]
          },
          "metadata": {},
          "execution_count": 7
        },
        {
          "output_type": "display_data",
          "data": {
            "image/png": "[encoded data removed]",
            "text/plain": [
              "<Figure size 432x288 with 1 Axes>"
            ]
          },
          "metadata": {
            "needs_background": "light"
          }
        }
      ]
    },
    {
      "cell_type": "markdown",
      "source": [
        "2. train-validation-test split [80-10-10] + k=5 fold cross validation on train-validation split"
      ],
      "metadata": {
        "id": "sjOba6JjZ2X2"
      }
    },
    {
      "cell_type": "code",
      "source": [
        "from sklearn.model_selection import train_test_split\n",
        "from sklearn.model_selection import KFold"
      ],
      "metadata": {
        "id": "1ijI0ZEMZ33Y"
      },
      "execution_count": null,
      "outputs": []
    },
    {
      "cell_type": "code",
      "source": [
        "#test_size = 0.1 as need to have 90% train-validation size and 10% test size\n",
        "X_train, X_test, Y_train, Y_test = train_test_split(X, Y, test_size=0.1)\n",
        "X_train_val = X_train\n",
        "Y_train_val = Y_train\n",
        "xtrain = X_train_val.copy()\n",
        "#test_size=0.1/0.9 as need to have 10% validation set size and 80% train set size\n",
        "X_train, X_valid, Y_train, Y_valid = train_test_split(X_train, Y_train, test_size=0.1/0.9)\n",
        "\n",
        "kfold = KFold(n_splits=5)\n",
        "kfold.get_n_splits(X_train_val)\n",
        "models_dict = {}\n",
        "i = 1\n",
        "for train_index, test_index in kfold.split(X_train_val):\n",
        "  train_dict = {}\n",
        "  val_dict = {}\n",
        "  #print(\"TRAIN:\", train_index, \"TEST:\", test_index)\n",
        "  x_train, x_test = X_train_val.iloc[train_index], X_train_val.iloc[test_index]\n",
        "  y_train, y_test = Y_train_val.iloc[train_index], Y_train_val.iloc[test_index]\n",
        "  train_dict['X'] = x_train\n",
        "  train_dict['Y'] = y_train\n",
        "  val_dict['X'] = x_test\n",
        "  val_dict['Y'] = y_test\n",
        "  mdict = {}\n",
        "  mdict['train'] = train_dict\n",
        "  mdict['val'] = val_dict\n",
        "  models_dict[i] = mdict\n",
        "  i += 1"
      ],
      "metadata": {
        "id": "QSAnDuh3Z54F"
      },
      "execution_count": null,
      "outputs": []
    },
    {
      "cell_type": "code",
      "source": [
        "#structure of models_dict : key-<model_number>, value-dict1\n",
        "#structure of dict1 : key-<'train'/'val'>, value-dict2\n",
        "#structure of dict2 : key-<'X','Y'>, value-dataframe containing either the input attributes or the class labels\n",
        "models_dict"
      ],
      "metadata": {
        "id": "xtVvzhRtzlih",
        "colab": {
          "base_uri": "https://localhost:8080/"
        },
        "outputId": "48e4b477-4573-46a6-c440-2c750f126752"
      },
      "execution_count": null,
      "outputs": [
        {
          "output_type": "execute_result",
          "data": {
            "text/plain": [
              "{1: {'train': {'X':       sex  length  diameter  height  wholewt  shuckedwt  viscerawt  shellwt\n",
              "   923     1   0.425     0.340   0.100   0.3820     0.1640     0.0960   0.1000\n",
              "   240     2   0.565     0.425   0.160   0.9425     0.3495     0.2185   0.2750\n",
              "   1733    2   0.665     0.500   0.175   1.2975     0.6075     0.3140   0.3150\n",
              "   670     2   0.475     0.385   0.145   0.6175     0.2350     0.1080   0.2150\n",
              "   3377    1   0.255     0.190   0.070   0.0815     0.0280     0.0160   0.0310\n",
              "   ...   ...     ...       ...     ...      ...        ...        ...      ...\n",
              "   1033    2   0.650     0.525   0.185   1.6220     0.6645     0.3225   0.4770\n",
              "   3264    0   0.655     0.500   0.140   1.1705     0.5405     0.3175   0.2850\n",
              "   1653    2   0.595     0.450   0.145   0.9590     0.4630     0.2065   0.2535\n",
              "   2607    0   0.625     0.490   0.165   1.1270     0.4770     0.2365   0.3185\n",
              "   2732    1   0.410     0.325   0.110   0.3260     0.1325     0.0750   0.1010\n",
              "   \n",
              "   [3007 rows x 8 columns], 'Y':       rings\n",
              "   923       6\n",
              "   240      17\n",
              "   1733      9\n",
              "   670      14\n",
              "   3377      5\n",
              "   ...     ...\n",
              "   1033     10\n",
              "   3264     12\n",
              "   1653     10\n",
              "   2607      9\n",
              "   2732      8\n",
              "   \n",
              "   [3007 rows x 1 columns]},\n",
              "  'val': {'X':       sex  length  diameter  height  wholewt  shuckedwt  viscerawt  shellwt\n",
              "   34      0   0.705     0.550   0.200   1.7095     0.6330     0.4115   0.4900\n",
              "   1818    0   0.695     0.550   0.185   1.6790     0.8050     0.4015   0.3965\n",
              "   983     0   0.565     0.400   0.130   0.6975     0.3075     0.1665   0.1800\n",
              "   1119    1   0.540     0.420   0.140   0.6665     0.3125     0.1380   0.1895\n",
              "   453     0   0.565     0.490   0.155   0.9245     0.4050     0.2195   0.2550\n",
              "   ...   ...     ...       ...     ...      ...        ...        ...      ...\n",
              "   3053    0   0.600     0.450   0.140   0.8690     0.3425     0.1950   0.2910\n",
              "   3045    0   0.580     0.435   0.155   0.8785     0.4250     0.1685   0.2425\n",
              "   427     2   0.600     0.500   0.160   1.0150     0.3995     0.1735   0.3300\n",
              "   2697    2   0.660     0.515   0.165   1.4465     0.6940     0.2980   0.3755\n",
              "   1760    0   0.750     0.565   0.215   1.9380     0.7735     0.4825   0.5750\n",
              "   \n",
              "   [752 rows x 8 columns],\n",
              "   'Y':       rings\n",
              "   34       13\n",
              "   1818     10\n",
              "   983       8\n",
              "   1119     10\n",
              "   453      11\n",
              "   ...     ...\n",
              "   3053     11\n",
              "   3045     10\n",
              "   427      19\n",
              "   2697     10\n",
              "   1760     11\n",
              "   \n",
              "   [752 rows x 1 columns]}},\n",
              " 2: {'train': {'X':       sex  length  diameter  height  wholewt  shuckedwt  viscerawt  shellwt\n",
              "   34      0   0.705     0.550   0.200   1.7095     0.6330     0.4115   0.4900\n",
              "   1818    0   0.695     0.550   0.185   1.6790     0.8050     0.4015   0.3965\n",
              "   983     0   0.565     0.400   0.130   0.6975     0.3075     0.1665   0.1800\n",
              "   1119    1   0.540     0.420   0.140   0.6665     0.3125     0.1380   0.1895\n",
              "   453     0   0.565     0.490   0.155   0.9245     0.4050     0.2195   0.2550\n",
              "   ...   ...     ...       ...     ...      ...        ...        ...      ...\n",
              "   1033    2   0.650     0.525   0.185   1.6220     0.6645     0.3225   0.4770\n",
              "   3264    0   0.655     0.500   0.140   1.1705     0.5405     0.3175   0.2850\n",
              "   1653    2   0.595     0.450   0.145   0.9590     0.4630     0.2065   0.2535\n",
              "   2607    0   0.625     0.490   0.165   1.1270     0.4770     0.2365   0.3185\n",
              "   2732    1   0.410     0.325   0.110   0.3260     0.1325     0.0750   0.1010\n",
              "   \n",
              "   [3007 rows x 8 columns], 'Y':       rings\n",
              "   34       13\n",
              "   1818     10\n",
              "   983       8\n",
              "   1119     10\n",
              "   453      11\n",
              "   ...     ...\n",
              "   1033     10\n",
              "   3264     12\n",
              "   1653     10\n",
              "   2607      9\n",
              "   2732      8\n",
              "   \n",
              "   [3007 rows x 1 columns]},\n",
              "  'val': {'X':       sex  length  diameter  height  wholewt  shuckedwt  viscerawt  shellwt\n",
              "   923     1   0.425     0.340   0.100   0.3820     0.1640     0.0960   0.1000\n",
              "   240     2   0.565     0.425   0.160   0.9425     0.3495     0.2185   0.2750\n",
              "   1733    2   0.665     0.500   0.175   1.2975     0.6075     0.3140   0.3150\n",
              "   670     2   0.475     0.385   0.145   0.6175     0.2350     0.1080   0.2150\n",
              "   3377    1   0.255     0.190   0.070   0.0815     0.0280     0.0160   0.0310\n",
              "   ...   ...     ...       ...     ...      ...        ...        ...      ...\n",
              "   1231    1   0.365     0.265   0.085   0.2130     0.0945     0.0490   0.0600\n",
              "   2242    0   0.475     0.380   0.135   0.4860     0.1735     0.0700   0.1850\n",
              "   2416    2   0.425     0.315   0.125   0.3525     0.1135     0.0565   0.1300\n",
              "   379     0   0.610     0.495   0.185   1.1085     0.3705     0.3135   0.3300\n",
              "   2838    2   0.590     0.470   0.155   1.1735     0.6245     0.2330   0.2595\n",
              "   \n",
              "   [752 rows x 8 columns],\n",
              "   'Y':       rings\n",
              "   923       6\n",
              "   240      17\n",
              "   1733      9\n",
              "   670      14\n",
              "   3377      5\n",
              "   ...     ...\n",
              "   1231      7\n",
              "   2242      7\n",
              "   2416     18\n",
              "   379      12\n",
              "   2838      9\n",
              "   \n",
              "   [752 rows x 1 columns]}},\n",
              " 3: {'train': {'X':       sex  length  diameter  height  wholewt  shuckedwt  viscerawt  shellwt\n",
              "   34      0   0.705     0.550   0.200   1.7095     0.6330     0.4115   0.4900\n",
              "   1818    0   0.695     0.550   0.185   1.6790     0.8050     0.4015   0.3965\n",
              "   983     0   0.565     0.400   0.130   0.6975     0.3075     0.1665   0.1800\n",
              "   1119    1   0.540     0.420   0.140   0.6665     0.3125     0.1380   0.1895\n",
              "   453     0   0.565     0.490   0.155   0.9245     0.4050     0.2195   0.2550\n",
              "   ...   ...     ...       ...     ...      ...        ...        ...      ...\n",
              "   1033    2   0.650     0.525   0.185   1.6220     0.6645     0.3225   0.4770\n",
              "   3264    0   0.655     0.500   0.140   1.1705     0.5405     0.3175   0.2850\n",
              "   1653    2   0.595     0.450   0.145   0.9590     0.4630     0.2065   0.2535\n",
              "   2607    0   0.625     0.490   0.165   1.1270     0.4770     0.2365   0.3185\n",
              "   2732    1   0.410     0.325   0.110   0.3260     0.1325     0.0750   0.1010\n",
              "   \n",
              "   [3007 rows x 8 columns], 'Y':       rings\n",
              "   34       13\n",
              "   1818     10\n",
              "   983       8\n",
              "   1119     10\n",
              "   453      11\n",
              "   ...     ...\n",
              "   1033     10\n",
              "   3264     12\n",
              "   1653     10\n",
              "   2607      9\n",
              "   2732      8\n",
              "   \n",
              "   [3007 rows x 1 columns]},\n",
              "  'val': {'X':       sex  length  diameter  height  wholewt  shuckedwt  viscerawt  shellwt\n",
              "   294     2   0.600     0.495   0.195   1.0575     0.3840     0.1900   0.3750\n",
              "   1610    1   0.545     0.420   0.125   0.7170     0.3580     0.1120   0.2200\n",
              "   2566    0   0.455     0.350   0.120   0.4555     0.1945     0.1045   0.1375\n",
              "   757     0   0.605     0.495   0.190   1.4370     0.4690     0.2655   0.4100\n",
              "   1063    1   0.285     0.220   0.065   0.0960     0.0405     0.0205   0.0300\n",
              "   ...   ...     ...       ...     ...      ...        ...        ...      ...\n",
              "   341     0   0.620     0.510   0.205   1.3475     0.4775     0.2565   0.4800\n",
              "   3253    1   0.430     0.350   0.105   0.3660     0.1705     0.0855   0.1100\n",
              "   875     2   0.630     0.505   0.165   1.2600     0.4525     0.2755   0.4060\n",
              "   1506    0   0.640     0.515   0.205   1.5335     0.6635     0.3345   0.4025\n",
              "   372     0   0.680     0.580   0.200   1.7870     0.5850     0.4530   0.6000\n",
              "   \n",
              "   [752 rows x 8 columns],\n",
              "   'Y':       rings\n",
              "   294      26\n",
              "   1610      8\n",
              "   2566      7\n",
              "   757      15\n",
              "   1063      5\n",
              "   ...     ...\n",
              "   341      14\n",
              "   3253      6\n",
              "   875      14\n",
              "   1506      9\n",
              "   372      19\n",
              "   \n",
              "   [752 rows x 1 columns]}},\n",
              " 4: {'train': {'X':       sex  length  diameter  height  wholewt  shuckedwt  viscerawt  shellwt\n",
              "   34      0   0.705     0.550   0.200   1.7095     0.6330     0.4115   0.4900\n",
              "   1818    0   0.695     0.550   0.185   1.6790     0.8050     0.4015   0.3965\n",
              "   983     0   0.565     0.400   0.130   0.6975     0.3075     0.1665   0.1800\n",
              "   1119    1   0.540     0.420   0.140   0.6665     0.3125     0.1380   0.1895\n",
              "   453     0   0.565     0.490   0.155   0.9245     0.4050     0.2195   0.2550\n",
              "   ...   ...     ...       ...     ...      ...        ...        ...      ...\n",
              "   1033    2   0.650     0.525   0.185   1.6220     0.6645     0.3225   0.4770\n",
              "   3264    0   0.655     0.500   0.140   1.1705     0.5405     0.3175   0.2850\n",
              "   1653    2   0.595     0.450   0.145   0.9590     0.4630     0.2065   0.2535\n",
              "   2607    0   0.625     0.490   0.165   1.1270     0.4770     0.2365   0.3185\n",
              "   2732    1   0.410     0.325   0.110   0.3260     0.1325     0.0750   0.1010\n",
              "   \n",
              "   [3007 rows x 8 columns], 'Y':       rings\n",
              "   34       13\n",
              "   1818     10\n",
              "   983       8\n",
              "   1119     10\n",
              "   453      11\n",
              "   ...     ...\n",
              "   1033     10\n",
              "   3264     12\n",
              "   1653     10\n",
              "   2607      9\n",
              "   2732      8\n",
              "   \n",
              "   [3007 rows x 1 columns]},\n",
              "  'val': {'X':       sex  length  diameter  height  wholewt  shuckedwt  viscerawt  shellwt\n",
              "   2624    2   0.765     0.585   0.180   2.3980     1.1280     0.5120   0.5335\n",
              "   2259    0   0.590     0.465   0.160   1.1005     0.5060     0.2525   0.2950\n",
              "   2568    1   0.460     0.345   0.120   0.4155     0.1980     0.0885   0.1070\n",
              "   889     0   0.685     0.540   0.160   1.6675     0.8330     0.3775   0.4750\n",
              "   3683    2   0.620     0.525   0.155   1.0850     0.4540     0.1965   0.3500\n",
              "   ...   ...     ...       ...     ...      ...        ...        ...      ...\n",
              "   753     0   0.580     0.455   0.165   1.1365     0.3690     0.3005   0.2750\n",
              "   462     1   0.240     0.185   0.070   0.0715     0.0260     0.0180   0.0250\n",
              "   1938    2   0.625     0.505   0.185   1.1565     0.5200     0.2405   0.3535\n",
              "   673     2   0.490     0.390   0.150   0.5730     0.2250     0.1240   0.1700\n",
              "   2712    1   0.210     0.150   0.045   0.0400     0.0135     0.0080   0.0105\n",
              "   \n",
              "   [752 rows x 8 columns],\n",
              "   'Y':       rings\n",
              "   2624     12\n",
              "   2259     13\n",
              "   2568      7\n",
              "   889      11\n",
              "   3683     10\n",
              "   ...     ...\n",
              "   753      13\n",
              "   462       6\n",
              "   1938     10\n",
              "   673      21\n",
              "   2712      4\n",
              "   \n",
              "   [752 rows x 1 columns]}},\n",
              " 5: {'train': {'X':       sex  length  diameter  height  wholewt  shuckedwt  viscerawt  shellwt\n",
              "   34      0   0.705     0.550   0.200   1.7095     0.6330     0.4115   0.4900\n",
              "   1818    0   0.695     0.550   0.185   1.6790     0.8050     0.4015   0.3965\n",
              "   983     0   0.565     0.400   0.130   0.6975     0.3075     0.1665   0.1800\n",
              "   1119    1   0.540     0.420   0.140   0.6665     0.3125     0.1380   0.1895\n",
              "   453     0   0.565     0.490   0.155   0.9245     0.4050     0.2195   0.2550\n",
              "   ...   ...     ...       ...     ...      ...        ...        ...      ...\n",
              "   753     0   0.580     0.455   0.165   1.1365     0.3690     0.3005   0.2750\n",
              "   462     1   0.240     0.185   0.070   0.0715     0.0260     0.0180   0.0250\n",
              "   1938    2   0.625     0.505   0.185   1.1565     0.5200     0.2405   0.3535\n",
              "   673     2   0.490     0.390   0.150   0.5730     0.2250     0.1240   0.1700\n",
              "   2712    1   0.210     0.150   0.045   0.0400     0.0135     0.0080   0.0105\n",
              "   \n",
              "   [3008 rows x 8 columns], 'Y':       rings\n",
              "   34       13\n",
              "   1818     10\n",
              "   983       8\n",
              "   1119     10\n",
              "   453      11\n",
              "   ...     ...\n",
              "   753      13\n",
              "   462       6\n",
              "   1938     10\n",
              "   673      21\n",
              "   2712      4\n",
              "   \n",
              "   [3008 rows x 1 columns]},\n",
              "  'val': {'X':       sex  length  diameter  height  wholewt  shuckedwt  viscerawt  shellwt\n",
              "   1201    2   0.720     0.565   0.145   1.1870     0.6910     0.1945   0.2685\n",
              "   3835    0   0.425     0.350   0.100   0.4425     0.1750     0.0755   0.1750\n",
              "   424     1   0.260     0.200   0.070   0.0920     0.0370     0.0200   0.0300\n",
              "   325     1   0.355     0.275   0.090   0.2510     0.0970     0.0530   0.0800\n",
              "   664     1   0.450     0.355   0.120   0.4120     0.1145     0.0665   0.1600\n",
              "   ...   ...     ...       ...     ...      ...        ...        ...      ...\n",
              "   1033    2   0.650     0.525   0.185   1.6220     0.6645     0.3225   0.4770\n",
              "   3264    0   0.655     0.500   0.140   1.1705     0.5405     0.3175   0.2850\n",
              "   1653    2   0.595     0.450   0.145   0.9590     0.4630     0.2065   0.2535\n",
              "   2607    0   0.625     0.490   0.165   1.1270     0.4770     0.2365   0.3185\n",
              "   2732    1   0.410     0.325   0.110   0.3260     0.1325     0.0750   0.1010\n",
              "   \n",
              "   [751 rows x 8 columns],\n",
              "   'Y':       rings\n",
              "   1201      8\n",
              "   3835      7\n",
              "   424       6\n",
              "   325       7\n",
              "   664      19\n",
              "   ...     ...\n",
              "   1033     10\n",
              "   3264     12\n",
              "   1653     10\n",
              "   2607      9\n",
              "   2732      8\n",
              "   \n",
              "   [751 rows x 1 columns]}}}"
            ]
          },
          "metadata": {},
          "execution_count": 10
        }
      ]
    },
    {
      "cell_type": "markdown",
      "source": [
        "3. Normalize training data and testing data\n",
        "Feature normalization is done after k-fold cross validaton, on each fold separately, to avoid data leakage. Feature normalization for test set is done on the parameters obtained after doing feature normalization on the train set.\n",
        "Need to normalize features for each fold and not normalize the features globally [before splitting data into train/test data] as this introduces data leakage ie we unknowningly provide knowledge about the test input attributes (which must be kept hidden) in the form of max/min"
      ],
      "metadata": {
        "id": "xcgTx8rkaCC9"
      }
    },
    {
      "cell_type": "code",
      "source": [
        "from sklearn.preprocessing import MinMaxScaler"
      ],
      "metadata": {
        "id": "pQGwumiGaBMp"
      },
      "execution_count": null,
      "outputs": []
    },
    {
      "cell_type": "code",
      "source": [
        "for i in range(1,6):\n",
        "  train_x = models_dict[i]['train']['X'].copy()\n",
        "  val_x = models_dict[i]['val']['X'].copy()\n",
        "\n",
        "  norm = MinMaxScaler().fit(train_x[['sex','length','diameter','height','wholewt','shuckedwt','viscerawt','shellwt']])\n",
        "  train_x[['sex','length','diameter','height','wholewt','shuckedwt','viscerawt','shellwt']] = norm.transform(train_x[['sex','length','diameter','height','wholewt','shuckedwt','viscerawt','shellwt']])\n",
        "  val_x[['sex','length','diameter','height','wholewt','shuckedwt','viscerawt','shellwt']] = norm.transform(val_x[['sex','length','diameter','height','wholewt','shuckedwt','viscerawt','shellwt']])\n",
        "\n",
        "  models_dict[i]['train']['X'] = train_x;\n",
        "  models_dict[i]['val']['X'] = val_x\n",
        "\n",
        "norm1 = MinMaxScaler().fit(xtrain[['sex','length','diameter','height','wholewt','shuckedwt','viscerawt','shellwt']])\n",
        "X_test[['sex','length','diameter','height','wholewt','shuckedwt','viscerawt','shellwt']] = norm1.transform(X_test[['sex','length','diameter','height','wholewt','shuckedwt','viscerawt','shellwt']])\n"
      ],
      "metadata": {
        "id": "UomOIg83aEu-"
      },
      "execution_count": null,
      "outputs": []
    },
    {
      "cell_type": "markdown",
      "source": [
        "4. Implementation of Linear Regression from scratch"
      ],
      "metadata": {
        "id": "jE5Nmz8a1EKL"
      }
    },
    {
      "cell_type": "markdown",
      "source": [
        "4.1 Linear regression function"
      ],
      "metadata": {
        "id": "vk5T8tDS1vOe"
      }
    },
    {
      "cell_type": "code",
      "source": [
        "import math"
      ],
      "metadata": {
        "id": "_fKN5Pif1Ll4"
      },
      "execution_count": null,
      "outputs": []
    },
    {
      "cell_type": "code",
      "source": [
        "def linearReg(x,y):\n",
        "  #initializing weight vector [which has the same size as the #input attributes]\n",
        "  w = np.zeros((x.shape[1],1))\n",
        "  #weights are updated maxNumIters times\n",
        "  maxNumIters = 10000\n",
        "  stepsize = 0.0001\n",
        "  n = x.shape[0]\n",
        "  #rmse stores the rmse observed at each iteration\n",
        "  rmse = np.zeros((maxNumIters,1))\n",
        "  for iter in range(0,maxNumIters):\n",
        "    #fx is f(x,w) = w0 + x1w1 +... + x8w8 [as there are 8 input attributes]\n",
        "    fx = np.dot(x,w)\n",
        "    #loss vector is y - f(x,w)\n",
        "    loss = y - fx\n",
        "    #print(loss)\n",
        "    #weighted loss is the sum over all training data, loss weighted by xi\n",
        "    weightedLoss = np.dot(x.T,loss)\n",
        "    #print(weightedLoss)\n",
        "    #update weights in proportion to stepsize\n",
        "    w += stepsize * weightedLoss\n",
        "    #append the rmse [calculated as the sqrt of the average of sum over all training data, (y-f(x,w))^2 ]to rmse vector\n",
        "    rmse[iter] = math.sqrt(np.sum(loss ** 2)/n)\n",
        "  return w,rmse"
      ],
      "metadata": {
        "id": "g8FnvioA1REZ"
      },
      "execution_count": null,
      "outputs": []
    },
    {
      "cell_type": "markdown",
      "source": [
        "[PART A]"
      ],
      "metadata": {
        "id": "K0zwjaY95NaA"
      }
    },
    {
      "cell_type": "markdown",
      "source": [
        "4.2 Getting the best model +  reporting rmse for validation sets for all models"
      ],
      "metadata": {
        "id": "39r5OzBa1yiA"
      }
    },
    {
      "cell_type": "code",
      "source": [
        "from sklearn.metrics import mean_squared_error"
      ],
      "metadata": {
        "id": "0eDcmSJn2QTJ"
      },
      "execution_count": null,
      "outputs": []
    },
    {
      "cell_type": "code",
      "source": [
        "#bestModel stores the optimal weights obtained from 'linearReg' method for the best model\n",
        "#bmind stores the index for the best model\n",
        "#rmses holds the rmse array obtained from 'linearReg' method for all models\n",
        "\n",
        "#an additional input feature[intercept term] is added to all the inputs. This input feature contains all 1s and is used to calculate the weight w0.\n",
        "#this leads to reduced rmse as for linear regression without regularization, for model-1 without w0 leads to rmse of 2.38,\n",
        "#however, using w0 lead to rmse of 2.32. Similarly, for linear regression with l1 regularization, for model-1 without w0 leads to\n",
        "#rmse of 2.39 and using w0 lead to rmse of 2.32\n",
        "\n",
        "bestModel = 0\n",
        "bmind = 0\n",
        "leastrmse = math.inf\n",
        "rmses = []\n",
        "for i in range(1,6):\n",
        "  x = models_dict[i]['train']['X'].copy()\n",
        "  x.insert(0, \"xnot\", np.ones((x.shape[0],1)), True)\n",
        "  x = x.to_numpy()\n",
        "  y = models_dict[i]['train']['Y'].to_numpy()\n",
        "\n",
        "  weights,rmse = linearReg(x,y)\n",
        "\n",
        "  #rmse - plot\n",
        "  rmses.append(rmse)\n",
        "\n",
        "  #weights - predict val\n",
        "  x_val = models_dict[i]['val']['X'].copy()\n",
        "  x_val.insert(0, \"xnot\", np.ones((x_val.shape[0],1)), True)\n",
        "  x_val = x_val.to_numpy()\n",
        "  y_val = models_dict[i]['val']['Y'].to_numpy()\n",
        "\n",
        "  predicted_y = np.dot(x_val,weights)\n",
        "  mse_val = mean_squared_error(y_val, predicted_y)\n",
        "  rmse_val = math.sqrt(mse_val)\n",
        "  print(\"RMSE for validation set for model-\"+str(i)+\" : \"+str(rmse_val))\n",
        "  if (rmse_val<leastrmse):\n",
        "    leastrmse = rmse_val\n",
        "    bestModel = weights\n",
        "    bmind = i"
      ],
      "metadata": {
        "colab": {
          "base_uri": "https://localhost:8080/"
        },
        "id": "XygrWjU41WmK",
        "outputId": "a0ec0b58-dd20-4bba-8bb9-879083c53d6f"
      },
      "execution_count": null,
      "outputs": [
        {
          "output_type": "stream",
          "name": "stdout",
          "text": [
            "RMSE for validation set for model-1 : 2.321413886849454\n",
            "RMSE for validation set for model-2 : 2.1646895176967162\n",
            "RMSE for validation set for model-3 : 2.1089217403542295\n",
            "RMSE for validation set for model-4 : 2.269712396740298\n",
            "RMSE for validation set for model-5 : 2.4289074333866183\n"
          ]
        }
      ]
    },
    {
      "cell_type": "code",
      "source": [
        "print(\"Best model : model \"+str(bmind))"
      ],
      "metadata": {
        "colab": {
          "base_uri": "https://localhost:8080/"
        },
        "id": "NNCYpdWN11LY",
        "outputId": "f72865a9-0053-4fef-da9f-dca6ab277e99"
      },
      "execution_count": null,
      "outputs": [
        {
          "output_type": "stream",
          "name": "stdout",
          "text": [
            "Best model : model 3\n"
          ]
        }
      ]
    },
    {
      "cell_type": "markdown",
      "source": [
        "4.3 Plotting iteration vs RMSE for all models"
      ],
      "metadata": {
        "id": "X-eS7nGG18Cu"
      }
    },
    {
      "cell_type": "code",
      "source": [
        "import matplotlib.pyplot as plt"
      ],
      "metadata": {
        "id": "72q0k7Wp2GXg"
      },
      "execution_count": null,
      "outputs": []
    },
    {
      "cell_type": "code",
      "source": [
        "#model-1\n",
        "plt.plot(np.arange(1,10001),rmses[0])\n",
        "plt.xlabel('Iterations')\n",
        "plt.ylabel('RMSE')\n",
        "plt.title('Iteration vs RMSE for model-1')"
      ],
      "metadata": {
        "id": "5zfvo2gc1o6N",
        "colab": {
          "base_uri": "https://localhost:8080/",
          "height": 312
        },
        "outputId": "73410a41-fc84-46e1-8c50-dd7a19285bca"
      },
      "execution_count": null,
      "outputs": [
        {
          "output_type": "execute_result",
          "data": {
            "text/plain": [
              "Text(0.5, 1.0, 'Iteration vs RMSE for model-1')"
            ]
          },
          "metadata": {},
          "execution_count": 19
        },
        {
          "output_type": "display_data",
          "data": {
            "image/png": "[encoded data removed]",
            "text/plain": [
              "<Figure size 432x288 with 1 Axes>"
            ]
          },
          "metadata": {
            "needs_background": "light"
          }
        }
      ]
    },
    {
      "cell_type": "code",
      "source": [
        "plt.plot(np.arange(1,10001),rmses[1])\n",
        "plt.xlabel('Iterations')\n",
        "plt.ylabel('RMSE')\n",
        "plt.title('Iteration vs RMSE for model-2')"
      ],
      "metadata": {
        "id": "YuwGIu1G2XG3",
        "colab": {
          "base_uri": "https://localhost:8080/",
          "height": 312
        },
        "outputId": "5a3f2690-65dc-4770-83a3-ea86aa250237"
      },
      "execution_count": null,
      "outputs": [
        {
          "output_type": "execute_result",
          "data": {
            "text/plain": [
              "Text(0.5, 1.0, 'Iteration vs RMSE for model-2')"
            ]
          },
          "metadata": {},
          "execution_count": 20
        },
        {
          "output_type": "display_data",
          "data": {
            "image/png": "[encoded data removed]",
            "text/plain": [
              "<Figure size 432x288 with 1 Axes>"
            ]
          },
          "metadata": {
            "needs_background": "light"
          }
        }
      ]
    },
    {
      "cell_type": "code",
      "source": [
        "plt.plot(np.arange(1,10001),rmses[2])\n",
        "plt.xlabel('Iterations')\n",
        "plt.ylabel('RMSE')\n",
        "plt.title('Iteration vs RMSE for model-3')"
      ],
      "metadata": {
        "id": "ca1ouHrP2XlY",
        "colab": {
          "base_uri": "https://localhost:8080/",
          "height": 312
        },
        "outputId": "0de74edc-911d-4578-cd8a-77dbe282373d"
      },
      "execution_count": null,
      "outputs": [
        {
          "output_type": "execute_result",
          "data": {
            "text/plain": [
              "Text(0.5, 1.0, 'Iteration vs RMSE for model-3')"
            ]
          },
          "metadata": {},
          "execution_count": 21
        },
        {
          "output_type": "display_data",
          "data": {
            "image/png": "[encoded data removed]",
            "text/plain": [
              "<Figure size 432x288 with 1 Axes>"
            ]
          },
          "metadata": {
            "needs_background": "light"
          }
        }
      ]
    },
    {
      "cell_type": "code",
      "source": [
        "plt.plot(np.arange(1,10001),rmses[3])\n",
        "plt.xlabel('Iterations')\n",
        "plt.ylabel('RMSE')\n",
        "plt.title('Iteration vs RMSE for model-4')"
      ],
      "metadata": {
        "id": "PdS57p2a2Y2u",
        "colab": {
          "base_uri": "https://localhost:8080/",
          "height": 312
        },
        "outputId": "bbfa09f9-e342-415c-b73a-46306e3fba0a"
      },
      "execution_count": null,
      "outputs": [
        {
          "output_type": "execute_result",
          "data": {
            "text/plain": [
              "Text(0.5, 1.0, 'Iteration vs RMSE for model-4')"
            ]
          },
          "metadata": {},
          "execution_count": 22
        },
        {
          "output_type": "display_data",
          "data": {
            "image/png": "[encoded data removed]",
            "text/plain": [
              "<Figure size 432x288 with 1 Axes>"
            ]
          },
          "metadata": {
            "needs_background": "light"
          }
        }
      ]
    },
    {
      "cell_type": "code",
      "source": [
        "plt.plot(np.arange(1,10001),rmses[4])\n",
        "plt.xlabel('Iterations')\n",
        "plt.ylabel('RMSE')\n",
        "plt.title('Iteration vs RMSE for model-5')"
      ],
      "metadata": {
        "id": "3JUArmgK2Z-c",
        "colab": {
          "base_uri": "https://localhost:8080/",
          "height": 312
        },
        "outputId": "14bcbdc7-445b-4c8b-da80-bb7d439751de"
      },
      "execution_count": null,
      "outputs": [
        {
          "output_type": "execute_result",
          "data": {
            "text/plain": [
              "Text(0.5, 1.0, 'Iteration vs RMSE for model-5')"
            ]
          },
          "metadata": {},
          "execution_count": 23
        },
        {
          "output_type": "display_data",
          "data": {
            "image/png": "[encoded data removed]",
            "text/plain": [
              "<Figure size 432x288 with 1 Axes>"
            ]
          },
          "metadata": {
            "needs_background": "light"
          }
        }
      ]
    },
    {
      "cell_type": "markdown",
      "source": [
        "[PART B]"
      ],
      "metadata": {
        "id": "VgnD0CKo5Pc2"
      }
    },
    {
      "cell_type": "markdown",
      "source": [
        "5. Implementation of Linear Regression with L1 regularization from scratch"
      ],
      "metadata": {
        "id": "MKqu9X4q4H_r"
      }
    },
    {
      "cell_type": "markdown",
      "source": [
        "5.1 Linear regression with L1 regularization function"
      ],
      "metadata": {
        "id": "YIA1xzm34QLH"
      }
    },
    {
      "cell_type": "code",
      "source": [
        "def linearReg_Lasso(x,y,lam):\n",
        "  #lamvect is the column vector filled with lam [regularization parameter]\n",
        "  lamvect = lam*np.ones((x.shape[1],1))\n",
        "  #initializing weight vector [which has the same size as the #input attributes]\n",
        "  w = np.zeros((x.shape[1],1))\n",
        "  #weights are updated maxNumIters times\n",
        "  maxNumIters = 10000\n",
        "  stepsize = 0.0001\n",
        "  n = x.shape[0]\n",
        "  #rmse stores the rmse observed at each iteration\n",
        "  rmse = np.zeros((maxNumIters,1))\n",
        "  for iter in range(0,maxNumIters):\n",
        "    #fx is f(x,w) = w0 + x1w1 +... + x8w8 [as there are 8 input attributes]\n",
        "    fx = np.dot(x,w)\n",
        "    #loss vector is y - f(x,w)\n",
        "    loss = y - fx\n",
        "    #print(loss)\n",
        "    #weighted loss is the sum over all training data, loss weighted by xi\n",
        "    weightedLoss = np.dot(x.T,loss)\n",
        "    #print(weightedLoss)\n",
        "    #update weights\n",
        "    #regularization term for lasso is simply lambda*norm1(weights). Update rule for weight wi would be updated\n",
        "    #to include the derivative of regularization term which would be lambda\n",
        "    w += (stepsize*weightedLoss) - lamvect\n",
        "    #append the rmse [calculated as the sqrt of the average of {sum over all training data, (y-f(x,w)+regularization term)^2} ]to rmse vector\n",
        "    #regularization term - 0.5*lam*sum over all |wi|\n",
        "    rmse[iter] = math.sqrt((np.sum(loss ** 2) + (0.5*lam*sum(np.abs(w))))/n)\n",
        "  return w,rmse"
      ],
      "metadata": {
        "id": "a9AvV9vy4Gk6"
      },
      "execution_count": null,
      "outputs": []
    },
    {
      "cell_type": "markdown",
      "source": [
        "5.2 Getting the best model + reporting rmse for validation sets for all models"
      ],
      "metadata": {
        "id": "tOSDy_fm5BSq"
      }
    },
    {
      "cell_type": "code",
      "source": [
        "bmind_l = 0\n",
        "bestModel_Lasso = 0\n",
        "leastrmse = math.inf\n",
        "rmses = []\n",
        "for i in range(1,6):\n",
        "  x = models_dict[i]['train']['X'].copy()\n",
        "  x.insert(0, \"xnot\", np.ones((x.shape[0],1)), True)\n",
        "  x = x.to_numpy()\n",
        "  y = models_dict[i]['train']['Y'].to_numpy()\n",
        "\n",
        "  weights,rmse = linearReg_Lasso(x,y,0.001)\n",
        "\n",
        "  #rmse - plot\n",
        "  rmses.append(rmse)\n",
        "\n",
        "  #weights - predict val\n",
        "  x_val = models_dict[i]['val']['X'].copy()\n",
        "  x_val.insert(0, \"xnot\", np.ones((x_val.shape[0],1)), True)\n",
        "  x_val = x_val.to_numpy()\n",
        "  y_val = models_dict[i]['val']['Y'].to_numpy()\n",
        "\n",
        "  predicted_y = np.dot(x_val,weights)\n",
        "  mse_val = mean_squared_error(y_val, predicted_y)\n",
        "  rmse_val = math.sqrt(mse_val)\n",
        "  print(\"RMSE for validation set for model-\"+str(i)+\" : \"+str(rmse_val))\n",
        "  if (rmse_val<leastrmse):\n",
        "    leastrmse = rmse_val\n",
        "    bestModel_Lasso = weights\n",
        "    bmind_l = i"
      ],
      "metadata": {
        "colab": {
          "base_uri": "https://localhost:8080/"
        },
        "id": "XT1JsdpA4Gz7",
        "outputId": "ac5b5f8a-3f11-47b8-83de-1f7154c032de"
      },
      "execution_count": null,
      "outputs": [
        {
          "output_type": "stream",
          "name": "stdout",
          "text": [
            "RMSE for validation set for model-1 : 2.328045795783498\n",
            "RMSE for validation set for model-2 : 2.172324230983159\n",
            "RMSE for validation set for model-3 : 2.112669175779243\n",
            "RMSE for validation set for model-4 : 2.2740063484326503\n",
            "RMSE for validation set for model-5 : 2.3894503106119798\n"
          ]
        }
      ]
    },
    {
      "cell_type": "code",
      "source": [
        "print(\"Best model : model \"+str(bmind_l))"
      ],
      "metadata": {
        "colab": {
          "base_uri": "https://localhost:8080/"
        },
        "id": "XAQZKM244G3W",
        "outputId": "292c2f08-8888-4d9e-efd5-f5548bf71d01"
      },
      "execution_count": null,
      "outputs": [
        {
          "output_type": "stream",
          "name": "stdout",
          "text": [
            "Best model : model 3\n"
          ]
        }
      ]
    },
    {
      "cell_type": "markdown",
      "source": [
        "5.3 Plotting iteration vs RMSE for all models"
      ],
      "metadata": {
        "id": "C-VDQYE35Cka"
      }
    },
    {
      "cell_type": "code",
      "source": [
        "plt.plot(np.arange(1,10001),rmses[0])\n",
        "plt.xlabel('Iterations')\n",
        "plt.ylabel('RMSE')\n",
        "plt.title('Iteration vs RMSE for model-1')"
      ],
      "metadata": {
        "colab": {
          "base_uri": "https://localhost:8080/",
          "height": 312
        },
        "id": "xKGFe8tN4_2d",
        "outputId": "8d9bb209-41e0-4b16-a91e-46101f1bff1a"
      },
      "execution_count": null,
      "outputs": [
        {
          "output_type": "execute_result",
          "data": {
            "text/plain": [
              "Text(0.5, 1.0, 'Iteration vs RMSE for model-1')"
            ]
          },
          "metadata": {},
          "execution_count": 27
        },
        {
          "output_type": "display_data",
          "data": {
            "image/png": "[encoded data removed]",
            "text/plain": [
              "<Figure size 432x288 with 1 Axes>"
            ]
          },
          "metadata": {
            "needs_background": "light"
          }
        }
      ]
    },
    {
      "cell_type": "code",
      "source": [
        "plt.plot(np.arange(1,10001),rmses[1])\n",
        "plt.xlabel('Iterations')\n",
        "plt.ylabel('RMSE')\n",
        "plt.title('Iteration vs RMSE for model-2')"
      ],
      "metadata": {
        "id": "gi_S5YB25W7I",
        "colab": {
          "base_uri": "https://localhost:8080/",
          "height": 312
        },
        "outputId": "3c6159de-ef79-457e-ec42-ab05d61f32ae"
      },
      "execution_count": null,
      "outputs": [
        {
          "output_type": "execute_result",
          "data": {
            "text/plain": [
              "Text(0.5, 1.0, 'Iteration vs RMSE for model-2')"
            ]
          },
          "metadata": {},
          "execution_count": 28
        },
        {
          "output_type": "display_data",
          "data": {
            "image/png": "[encoded data removed]",
            "text/plain": [
              "<Figure size 432x288 with 1 Axes>"
            ]
          },
          "metadata": {
            "needs_background": "light"
          }
        }
      ]
    },
    {
      "cell_type": "code",
      "source": [
        "plt.plot(np.arange(1,10001),rmses[2])\n",
        "plt.xlabel('Iterations')\n",
        "plt.ylabel('RMSE')\n",
        "plt.title('Iteration vs RMSE for model-3')"
      ],
      "metadata": {
        "id": "2xryVyIg5YOT",
        "colab": {
          "base_uri": "https://localhost:8080/",
          "height": 312
        },
        "outputId": "0b7e42d2-1a6b-4b5a-ea40-a0d2f09798b8"
      },
      "execution_count": null,
      "outputs": [
        {
          "output_type": "execute_result",
          "data": {
            "text/plain": [
              "Text(0.5, 1.0, 'Iteration vs RMSE for model-3')"
            ]
          },
          "metadata": {},
          "execution_count": 29
        },
        {
          "output_type": "display_data",
          "data": {
            "image/png": "[encoded data removed]",
            "text/plain": [
              "<Figure size 432x288 with 1 Axes>"
            ]
          },
          "metadata": {
            "needs_background": "light"
          }
        }
      ]
    },
    {
      "cell_type": "code",
      "source": [
        "plt.plot(np.arange(1,10001),rmses[3])\n",
        "plt.xlabel('Iterations')\n",
        "plt.ylabel('RMSE')\n",
        "plt.title('Iteration vs RMSE for model-4')"
      ],
      "metadata": {
        "id": "WnsJAJeO5abl",
        "colab": {
          "base_uri": "https://localhost:8080/",
          "height": 312
        },
        "outputId": "6af8e55e-4ed0-4b46-a615-f64c09dedcd9"
      },
      "execution_count": null,
      "outputs": [
        {
          "output_type": "execute_result",
          "data": {
            "text/plain": [
              "Text(0.5, 1.0, 'Iteration vs RMSE for model-4')"
            ]
          },
          "metadata": {},
          "execution_count": 30
        },
        {
          "output_type": "display_data",
          "data": {
            "image/png": "[encoded data removed]",
            "text/plain": [
              "<Figure size 432x288 with 1 Axes>"
            ]
          },
          "metadata": {
            "needs_background": "light"
          }
        }
      ]
    },
    {
      "cell_type": "code",
      "source": [
        "plt.plot(np.arange(1,10001),rmses[4])\n",
        "plt.xlabel('Iterations')\n",
        "plt.ylabel('RMSE')\n",
        "plt.title('Iteration vs RMSE for model-5')"
      ],
      "metadata": {
        "id": "jVU6wn2w5bk9",
        "colab": {
          "base_uri": "https://localhost:8080/",
          "height": 312
        },
        "outputId": "51a94772-854e-4562-cef5-f8f268731dec"
      },
      "execution_count": null,
      "outputs": [
        {
          "output_type": "execute_result",
          "data": {
            "text/plain": [
              "Text(0.5, 1.0, 'Iteration vs RMSE for model-5')"
            ]
          },
          "metadata": {},
          "execution_count": 31
        },
        {
          "output_type": "display_data",
          "data": {
            "image/png": "[encoded data removed]",
            "text/plain": [
              "<Figure size 432x288 with 1 Axes>"
            ]
          },
          "metadata": {
            "needs_background": "light"
          }
        }
      ]
    },
    {
      "cell_type": "markdown",
      "source": [
        "6. Implementation of Linear Regression with L2 regularization from scratch"
      ],
      "metadata": {
        "id": "0GX-iWYU5g43"
      }
    },
    {
      "cell_type": "markdown",
      "source": [
        "6.1 Linear Regression with L2 regularization function"
      ],
      "metadata": {
        "id": "NRlGeYCK5jwj"
      }
    },
    {
      "cell_type": "code",
      "source": [
        "def linearReg_Ridge(x,y,lam):\n",
        "  #initializing weight vector [which has the same size as the #input attributes]\n",
        "  w = np.zeros((x.shape[1],1))\n",
        "  #weights are updated maxNumIters times\n",
        "  maxNumIters = 10000\n",
        "  stepsize = 0.0001\n",
        "  n = x.shape[0]\n",
        "  #rmse stores the rmse observed at each iteration\n",
        "  rmse = np.zeros((maxNumIters,1))\n",
        "  for iter in range(0,maxNumIters):\n",
        "    #fx is f(x,w) = w0 + x1w1 +... + x8w8 [as there are 8 input attributes]\n",
        "    fx = np.dot(x,w)\n",
        "    #loss vector is y - f(x,w)\n",
        "    loss = y - fx\n",
        "    #print(loss)\n",
        "    #weighted loss is the sum over all training data, loss weighted by xi\n",
        "    weightedLoss = np.dot(x.T,loss)\n",
        "    #print(weightedLoss)\n",
        "    #update weights\n",
        "    #regularization term for ridge is simply lambda*norm2(weights). Update rule for weight wi would be updated\n",
        "    #to include the derivative of regularization term which would be lambda*wi\n",
        "    w += (stepsize*weightedLoss) - lam*w\n",
        "    #append the rmse [calculated as the sqrt of the average of {sum over all training data, (y-f(x,w)+regularization term)^2} ]to rmse vector\n",
        "    #regularization term - 0.5*lam*sum over all wi^2\n",
        "    rmse[iter] = math.sqrt((np.sum(loss ** 2) + (0.5*lam*sum(np.power(w,2))))/n)\n",
        "  return w,rmse"
      ],
      "metadata": {
        "id": "Lq85uyW95o6b"
      },
      "execution_count": null,
      "outputs": []
    },
    {
      "cell_type": "markdown",
      "source": [
        "6.2 Getting the best model + reporting rmse for validation sets for all models"
      ],
      "metadata": {
        "id": "djxQi-rE578u"
      }
    },
    {
      "cell_type": "code",
      "source": [
        "bmind_r = 0\n",
        "bestModel_Ridge = 0\n",
        "leastrmse = math.inf\n",
        "rmses = []\n",
        "for i in range(1,6):\n",
        "  x = models_dict[i]['train']['X'].copy()\n",
        "  x.insert(0, \"xnot\", np.ones((x.shape[0],1)), True)\n",
        "  x = x.to_numpy()\n",
        "  y = models_dict[i]['train']['Y'].to_numpy()\n",
        "\n",
        "  weights,rmse = linearReg_Ridge(x,y,0.001)\n",
        "\n",
        "  #rmse - plot\n",
        "  rmses.append(rmse)\n",
        "\n",
        "  #weights - predict val\n",
        "  x_val = models_dict[i]['val']['X'].copy()\n",
        "  x_val.insert(0, \"xnot\", np.ones((x_val.shape[0],1)), True)\n",
        "  x_val = x_val.to_numpy()\n",
        "  y_val = models_dict[i]['val']['Y'].to_numpy()\n",
        "\n",
        "  predicted_y = np.dot(x_val,weights)\n",
        "  mse_val = mean_squared_error(y_val, predicted_y)\n",
        "  rmse_val = math.sqrt(mse_val)\n",
        "  print(\"RMSE for validation set for model-\"+str(i)+\" : \"+str(rmse_val))\n",
        "  if (rmse_val<leastrmse):\n",
        "    leastrmse = rmse_val\n",
        "    bestModel_Ridge = weights\n",
        "    bmind_r = i"
      ],
      "metadata": {
        "colab": {
          "base_uri": "https://localhost:8080/"
        },
        "id": "bmoCznPh5rTx",
        "outputId": "2c7ca858-2ac1-4e4a-8db9-755dce84d130"
      },
      "execution_count": null,
      "outputs": [
        {
          "output_type": "stream",
          "name": "stdout",
          "text": [
            "RMSE for validation set for model-1 : 2.4381940962680724\n",
            "RMSE for validation set for model-2 : 2.3770138905452582\n",
            "RMSE for validation set for model-3 : 2.2811795566688184\n",
            "RMSE for validation set for model-4 : 2.421164332202717\n",
            "RMSE for validation set for model-5 : 2.447163684255495\n"
          ]
        }
      ]
    },
    {
      "cell_type": "code",
      "source": [
        "print(\"Best model : model \"+str(bmind_r))"
      ],
      "metadata": {
        "colab": {
          "base_uri": "https://localhost:8080/"
        },
        "id": "ce2QWfQF4_47",
        "outputId": "78780629-462a-4ed7-978d-5b63dececea9"
      },
      "execution_count": null,
      "outputs": [
        {
          "output_type": "stream",
          "name": "stdout",
          "text": [
            "Best model : model 3\n"
          ]
        }
      ]
    },
    {
      "cell_type": "markdown",
      "source": [
        "6.3 Plotting iteration vs RMSE for all models"
      ],
      "metadata": {
        "id": "XSIwQcOL59V6"
      }
    },
    {
      "cell_type": "code",
      "source": [
        "plt.plot(np.arange(1,10001),rmses[0])\n",
        "plt.xlabel('Iterations')\n",
        "plt.ylabel('RMSE')\n",
        "plt.title('Iteration vs RMSE for model-1')"
      ],
      "metadata": {
        "colab": {
          "base_uri": "https://localhost:8080/",
          "height": 312
        },
        "id": "5Lyc8abh542Q",
        "outputId": "b2a4446d-676c-43f2-ff27-2ce086b12afe"
      },
      "execution_count": null,
      "outputs": [
        {
          "output_type": "execute_result",
          "data": {
            "text/plain": [
              "Text(0.5, 1.0, 'Iteration vs RMSE for model-1')"
            ]
          },
          "metadata": {},
          "execution_count": 35
        },
        {
          "output_type": "display_data",
          "data": {
            "image/png": "[encoded data removed]",
            "text/plain": [
              "<Figure size 432x288 with 1 Axes>"
            ]
          },
          "metadata": {
            "needs_background": "light"
          }
        }
      ]
    },
    {
      "cell_type": "code",
      "source": [
        "plt.plot(np.arange(1,10001),rmses[1])\n",
        "plt.xlabel('Iterations')\n",
        "plt.ylabel('RMSE')\n",
        "plt.title('Iteration vs RMSE for model-2')"
      ],
      "metadata": {
        "id": "w271sc7G6DfC",
        "colab": {
          "base_uri": "https://localhost:8080/",
          "height": 312
        },
        "outputId": "f235d060-42f1-413e-ea5f-5697b8dc261f"
      },
      "execution_count": null,
      "outputs": [
        {
          "output_type": "execute_result",
          "data": {
            "text/plain": [
              "Text(0.5, 1.0, 'Iteration vs RMSE for model-2')"
            ]
          },
          "metadata": {},
          "execution_count": 36
        },
        {
          "output_type": "display_data",
          "data": {
            "image/png": "[encoded data removed]",
            "text/plain": [
              "<Figure size 432x288 with 1 Axes>"
            ]
          },
          "metadata": {
            "needs_background": "light"
          }
        }
      ]
    },
    {
      "cell_type": "code",
      "source": [
        "plt.plot(np.arange(1,10001),rmses[2])\n",
        "plt.xlabel('Iterations')\n",
        "plt.ylabel('RMSE')\n",
        "plt.title('Iteration vs RMSE for model-3')"
      ],
      "metadata": {
        "id": "Hq7friBm6FFq",
        "colab": {
          "base_uri": "https://localhost:8080/",
          "height": 312
        },
        "outputId": "d7c01b3a-ec42-46bb-8899-9bb0692d8a9a"
      },
      "execution_count": null,
      "outputs": [
        {
          "output_type": "execute_result",
          "data": {
            "text/plain": [
              "Text(0.5, 1.0, 'Iteration vs RMSE for model-3')"
            ]
          },
          "metadata": {},
          "execution_count": 37
        },
        {
          "output_type": "display_data",
          "data": {
            "image/png": "[encoded data removed]",
            "text/plain": [
              "<Figure size 432x288 with 1 Axes>"
            ]
          },
          "metadata": {
            "needs_background": "light"
          }
        }
      ]
    },
    {
      "cell_type": "code",
      "source": [
        "plt.plot(np.arange(1,10001),rmses[3])\n",
        "plt.xlabel('Iterations')\n",
        "plt.ylabel('RMSE')\n",
        "plt.title('Iteration vs RMSE for model-4')"
      ],
      "metadata": {
        "id": "zcfkXD7Q6Gl7",
        "colab": {
          "base_uri": "https://localhost:8080/",
          "height": 312
        },
        "outputId": "37dbcfa4-5c2f-4ea0-e242-4c671e639f76"
      },
      "execution_count": null,
      "outputs": [
        {
          "output_type": "execute_result",
          "data": {
            "text/plain": [
              "Text(0.5, 1.0, 'Iteration vs RMSE for model-4')"
            ]
          },
          "metadata": {},
          "execution_count": 38
        },
        {
          "output_type": "display_data",
          "data": {
            "image/png": "[encoded data removed]",
            "text/plain": [
              "<Figure size 432x288 with 1 Axes>"
            ]
          },
          "metadata": {
            "needs_background": "light"
          }
        }
      ]
    },
    {
      "cell_type": "code",
      "source": [
        "plt.plot(np.arange(1,10001),rmses[4])\n",
        "plt.xlabel('Iterations')\n",
        "plt.ylabel('RMSE')\n",
        "plt.title('Iteration vs RMSE for model-5')"
      ],
      "metadata": {
        "id": "ulq7oabt6IXd",
        "colab": {
          "base_uri": "https://localhost:8080/",
          "height": 312
        },
        "outputId": "5289d709-d83f-46d0-f6c9-b737bb9c817a"
      },
      "execution_count": null,
      "outputs": [
        {
          "output_type": "execute_result",
          "data": {
            "text/plain": [
              "Text(0.5, 1.0, 'Iteration vs RMSE for model-5')"
            ]
          },
          "metadata": {},
          "execution_count": 39
        },
        {
          "output_type": "display_data",
          "data": {
            "image/png": "[encoded data removed]",
            "text/plain": [
              "<Figure size 432x288 with 1 Axes>"
            ]
          },
          "metadata": {
            "needs_background": "light"
          }
        }
      ]
    },
    {
      "cell_type": "markdown",
      "source": [
        "[PART C]"
      ],
      "metadata": {
        "id": "U8RrqWkU6Z3l"
      }
    },
    {
      "cell_type": "markdown",
      "source": [
        "7. RMSE of best models on test set"
      ],
      "metadata": {
        "id": "U7MJ2fxx6bNk"
      }
    },
    {
      "cell_type": "code",
      "source": [
        "x = X_test.copy()\n",
        "x.insert(0, \"xnot\", np.ones((x.shape[0],1)), True)\n",
        "x = x.to_numpy()\n",
        "y = Y_test.to_numpy()\n",
        "\n",
        "#1. LS regression\n",
        "predicted_y = np.dot(x,bestModel)\n",
        "mse_val = mean_squared_error(y, predicted_y)\n",
        "rmse_val = math.sqrt(mse_val)\n",
        "print(\"Linear regression without regularization, rmse : \"+str(rmse_val))\n",
        "\n",
        "#2. lasso regression\n",
        "predicted_y = np.dot(x,bestModel_Lasso)\n",
        "mse_val = mean_squared_error(y, predicted_y)\n",
        "rmse_val = math.sqrt(mse_val)\n",
        "print(\"Linear regression with l1 regularization, rmse : \"+str(rmse_val))\n",
        "\n",
        "#3. ridge regression\n",
        "predicted_y = np.dot(x,bestModel_Ridge)\n",
        "mse_val = mean_squared_error(y, predicted_y)\n",
        "rmse_val = math.sqrt(mse_val)\n",
        "print(\"Linear regression with l2 regularization, rmse : \"+str(rmse_val))"
      ],
      "metadata": {
        "colab": {
          "base_uri": "https://localhost:8080/"
        },
        "id": "cQCw2faa6k8V",
        "outputId": "0f61d126-88d5-42f5-88f4-a8a9a35275e2"
      },
      "execution_count": null,
      "outputs": [
        {
          "output_type": "stream",
          "name": "stdout",
          "text": [
            "Linear regression without regularization, rmse : 2.5904728733737\n",
            "Linear regression with l1 regularization, rmse : 2.5904728733737\n",
            "Linear regression with l2 regularization, rmse : 2.4199945689023705\n"
          ]
        }
      ]
    },
    {
      "cell_type": "markdown",
      "source": [
        "[PART D]"
      ],
      "metadata": {
        "id": "LiiDBEv07pzz"
      }
    },
    {
      "cell_type": "markdown",
      "source": [
        "8. Scikit-learn’s implementation of Linear Regression [without regularization, with l1 regularization, with l2 regularization]"
      ],
      "metadata": {
        "id": "68wCi9VN7sBn"
      }
    },
    {
      "cell_type": "code",
      "source": [
        "from sklearn.linear_model import LinearRegression\n",
        "from sklearn.linear_model import Lasso\n",
        "from sklearn.linear_model import Ridge"
      ],
      "metadata": {
        "id": "Kzw8o5li7rUE"
      },
      "execution_count": null,
      "outputs": []
    },
    {
      "cell_type": "markdown",
      "source": [
        "8.1 Linear regression without regularization + get best model"
      ],
      "metadata": {
        "id": "dm-4rIBI8A1u"
      }
    },
    {
      "cell_type": "code",
      "source": [
        "bestModel = 0\n",
        "bmind = 0\n",
        "leastrmse = math.inf\n",
        "rmses = []\n",
        "for i in range(1,6):\n",
        "  x = models_dict[i]['train']['X'].to_numpy()\n",
        "  y = models_dict[i]['train']['Y'].to_numpy()\n",
        "  x_val = models_dict[i]['val']['X'].to_numpy()\n",
        "  y_val = models_dict[i]['val']['Y'].to_numpy()\n",
        "\n",
        "  reg = LinearRegression().fit(x, y)\n",
        "\n",
        "  y_pred_slr= reg.predict(x_val)\n",
        "  mse_val = mean_squared_error(y_val, y_pred_slr)\n",
        "  rmse_val = math.sqrt(mse_val)\n",
        "\n",
        "  print(\"RMSE for validation set for model-\"+str(i)+\" : \"+str(rmse_val))\n",
        "  if (rmse_val<leastrmse):\n",
        "    leastrmse = rmse_val\n",
        "    bestModel = weights\n",
        "    bmind = i"
      ],
      "metadata": {
        "colab": {
          "base_uri": "https://localhost:8080/"
        },
        "id": "J2bm3vV27684",
        "outputId": "42924e6d-79be-4fba-f7c8-416533284e38"
      },
      "execution_count": null,
      "outputs": [
        {
          "output_type": "stream",
          "name": "stdout",
          "text": [
            "RMSE for validation set for model-1 : 2.301742759984893\n",
            "RMSE for validation set for model-2 : 2.15830613123047\n",
            "RMSE for validation set for model-3 : 2.0801463966243907\n",
            "RMSE for validation set for model-4 : 2.2577330537177467\n",
            "RMSE for validation set for model-5 : 2.4203139079625386\n"
          ]
        }
      ]
    },
    {
      "cell_type": "code",
      "source": [
        "print(\"Best model : model \"+str(bmind))"
      ],
      "metadata": {
        "id": "qvOuYtg76Ij8",
        "colab": {
          "base_uri": "https://localhost:8080/"
        },
        "outputId": "71fb03a4-6ce9-4679-c4af-81b83ece43a7"
      },
      "execution_count": null,
      "outputs": [
        {
          "output_type": "stream",
          "name": "stdout",
          "text": [
            "Best model : model 3\n"
          ]
        }
      ]
    },
    {
      "cell_type": "markdown",
      "source": [
        "8.2 Linear regression with l1 regularization + get best model"
      ],
      "metadata": {
        "id": "F2KL4djx89Ol"
      }
    },
    {
      "cell_type": "code",
      "source": [
        "bmind_l = 0\n",
        "bestModel_Lasso = 0\n",
        "leastrmse = math.inf\n",
        "rmses = []\n",
        "for i in range(1,6):\n",
        "  x = models_dict[i]['train']['X'].to_numpy()\n",
        "  y = models_dict[i]['train']['Y'].to_numpy()\n",
        "  x_val = models_dict[i]['val']['X'].to_numpy()\n",
        "  y_val = models_dict[i]['val']['Y'].to_numpy()\n",
        "\n",
        "  reg = Lasso(alpha=0.001).fit(x, y)\n",
        "\n",
        "  y_pred_slr= reg.predict(x_val)\n",
        "  mse_val = mean_squared_error(y_val, y_pred_slr)\n",
        "  rmse_val = math.sqrt(mse_val)\n",
        "\n",
        "  print(\"RMSE for validation set for model-\"+str(i)+\" : \"+str(rmse_val))\n",
        "  if (rmse_val<leastrmse):\n",
        "    leastrmse = rmse_val\n",
        "    bestModel_Lasso = weights\n",
        "    bmind_l = i"
      ],
      "metadata": {
        "colab": {
          "base_uri": "https://localhost:8080/"
        },
        "id": "d3GLyoI687Yd",
        "outputId": "99b61c9a-309c-4835-a9db-5019a34d8363"
      },
      "execution_count": null,
      "outputs": [
        {
          "output_type": "stream",
          "name": "stdout",
          "text": [
            "RMSE for validation set for model-1 : 2.3074844738969893\n",
            "RMSE for validation set for model-2 : 2.159390801609756\n",
            "RMSE for validation set for model-3 : 2.0884761329681325\n",
            "RMSE for validation set for model-4 : 2.259516516426314\n",
            "RMSE for validation set for model-5 : 2.4048223196889564\n"
          ]
        }
      ]
    },
    {
      "cell_type": "code",
      "source": [
        "print(\"Best model : model \"+str(bmind_l))"
      ],
      "metadata": {
        "colab": {
          "base_uri": "https://localhost:8080/"
        },
        "id": "bSeZcoER87a4",
        "outputId": "bc1d3c6b-9c95-4e2a-e6df-cc167640be29"
      },
      "execution_count": null,
      "outputs": [
        {
          "output_type": "stream",
          "name": "stdout",
          "text": [
            "Best model : model 3\n"
          ]
        }
      ]
    },
    {
      "cell_type": "markdown",
      "source": [
        "8.3 Linear regression with l2 regularization + get best model"
      ],
      "metadata": {
        "id": "e376o1Xa9V7Q"
      }
    },
    {
      "cell_type": "code",
      "source": [
        "bmind_r = 0\n",
        "bestModel_Ridge = 0\n",
        "leastrmse = math.inf\n",
        "rmses = []\n",
        "for i in range(1,6):\n",
        "  x = models_dict[i]['train']['X'].to_numpy()\n",
        "  y = models_dict[i]['train']['Y'].to_numpy()\n",
        "  x_val = models_dict[i]['val']['X'].to_numpy()\n",
        "  y_val = models_dict[i]['val']['Y'].to_numpy()\n",
        "\n",
        "  reg = Ridge(alpha=0.001).fit(x, y)\n",
        "\n",
        "  y_pred_slr= reg.predict(x_val)\n",
        "  mse_val = mean_squared_error(y_val, y_pred_slr)\n",
        "  rmse_val = math.sqrt(mse_val)\n",
        "\n",
        "  print(\"RMSE for validation set for model-\"+str(i)+\" : \"+str(rmse_val))\n",
        "  if (rmse_val<leastrmse):\n",
        "    leastrmse = rmse_val\n",
        "    bestModel_Ridge = weights\n",
        "    bmind_r = i"
      ],
      "metadata": {
        "colab": {
          "base_uri": "https://localhost:8080/"
        },
        "id": "c-RCel4C9XVS",
        "outputId": "b6576edf-24f4-43c9-9eee-c25aeec40802"
      },
      "execution_count": null,
      "outputs": [
        {
          "output_type": "stream",
          "name": "stdout",
          "text": [
            "RMSE for validation set for model-1 : 2.3017640319892987\n",
            "RMSE for validation set for model-2 : 2.158253561203903\n",
            "RMSE for validation set for model-3 : 2.0801802721010243\n",
            "RMSE for validation set for model-4 : 2.257731530196783\n",
            "RMSE for validation set for model-5 : 2.420262827214332\n"
          ]
        }
      ]
    },
    {
      "cell_type": "code",
      "source": [
        "print(\"Best model : model \"+str(bmind_r))"
      ],
      "metadata": {
        "colab": {
          "base_uri": "https://localhost:8080/"
        },
        "id": "IxGatMt687dK",
        "outputId": "945bfa42-1a96-4f72-d1d0-640fc446d52d"
      },
      "execution_count": null,
      "outputs": [
        {
          "output_type": "stream",
          "name": "stdout",
          "text": [
            "Best model : model 3\n"
          ]
        }
      ]
    },
    {
      "cell_type": "markdown",
      "source": [
        "8.4 RMSE of best models on test set"
      ],
      "metadata": {
        "id": "tV-71ceB9lu3"
      }
    },
    {
      "cell_type": "code",
      "source": [
        "x = X_test.to_numpy()\n",
        "y = Y_test.to_numpy()\n",
        "\n",
        "#1. LS regression\n",
        "xt = models_dict[bmind]['train']['X'].to_numpy()\n",
        "yt = models_dict[bmind]['train']['Y'].to_numpy()\n",
        "\n",
        "reg = LinearRegression().fit(xt, yt)\n",
        "predicted_y = reg.predict(x)\n",
        "mse_val = mean_squared_error(y, predicted_y)\n",
        "rmse_val = math.sqrt(mse_val)\n",
        "print(\"Linear regression without regularization, rmse : \"+str(rmse_val))\n",
        "\n",
        "\n",
        "#2. lasso regression\n",
        "xt = models_dict[bmind_l]['train']['X'].to_numpy()\n",
        "yt = models_dict[bmind_l]['train']['Y'].to_numpy()\n",
        "\n",
        "reg = Lasso(alpha=0.001).fit(xt, yt)\n",
        "predicted_y = reg.predict(x)\n",
        "mse_val = mean_squared_error(y, predicted_y)\n",
        "rmse_val = math.sqrt(mse_val)\n",
        "print(\"Linear regression with l1 regularization, rmse : \"+str(rmse_val))\n",
        "\n",
        "#3. ridge regression\n",
        "xt = models_dict[bmind_r]['train']['X'].to_numpy()\n",
        "yt = models_dict[bmind_r]['train']['Y'].to_numpy()\n",
        "\n",
        "reg = Ridge(alpha=0.001).fit(xt, yt)\n",
        "predicted_y = reg.predict(x)\n",
        "mse_val = mean_squared_error(y, predicted_y)\n",
        "rmse_val = math.sqrt(mse_val)\n",
        "print(\"Linear regression with l2 regularization, rmse : \"+str(rmse_val))\n"
      ],
      "metadata": {
        "colab": {
          "base_uri": "https://localhost:8080/"
        },
        "id": "XyOG4oQ79nM6",
        "outputId": "7ab51803-7dcd-41a4-9442-236829e26a82"
      },
      "execution_count": null,
      "outputs": [
        {
          "output_type": "stream",
          "name": "stdout",
          "text": [
            "Linear regression without regularization, rmse : 2.2396063974693305\n",
            "Linear regression with l1 regularization, rmse : 2.2432906937949193\n",
            "Linear regression with l2 regularization, rmse : 2.23958601109524\n"
          ]
        }
      ]
    },
    {
      "cell_type": "markdown",
      "source": [
        "[PART E]"
      ],
      "metadata": {
        "id": "e1Dp9ZBT-ypA"
      }
    },
    {
      "cell_type": "markdown",
      "source": [
        "9. Normal equations"
      ],
      "metadata": {
        "id": "sIPNgQMz-zz1"
      }
    },
    {
      "cell_type": "code",
      "source": [
        "for i in range(1,6):\n",
        "  x = models_dict[i]['train']['X'].to_numpy()\n",
        "  y = models_dict[i]['train']['Y'].to_numpy()\n",
        "  x_val = models_dict[i]['val']['X'].to_numpy()\n",
        "  y_val = models_dict[i]['val']['Y'].to_numpy()\n",
        "\n",
        "  weights = np.linalg.inv(x.T.dot(x)).dot(x.T).dot(y)\n",
        "\n",
        "  predicted_y = np.dot(x_val,weights)\n",
        "  mse_val = mean_squared_error(y_val, predicted_y)\n",
        "  rmse_val = math.sqrt(mse_val)\n",
        "  print(\"Linear regression for model \"+str(i)+\" has rmse : \"+str(rmse_val) + \" on validation set\")"
      ],
      "metadata": {
        "colab": {
          "base_uri": "https://localhost:8080/"
        },
        "id": "_7BrlA3I9nPh",
        "outputId": "4aaa8e65-7e2b-46a9-81b5-97ec1dbf4847"
      },
      "execution_count": null,
      "outputs": [
        {
          "output_type": "stream",
          "name": "stdout",
          "text": [
            "Linear regression for model 1 has rmse : 2.3568587588297283 on validation set\n",
            "Linear regression for model 2 has rmse : 2.245940117399337 on validation set\n",
            "Linear regression for model 3 has rmse : 2.124304877778099 on validation set\n",
            "Linear regression for model 4 has rmse : 2.332422463360453 on validation set\n",
            "Linear regression for model 5 has rmse : 2.6280803216377233 on validation set\n"
          ]
        }
      ]
    }
  ]
}